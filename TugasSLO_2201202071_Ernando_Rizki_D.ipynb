{
  "nbformat": 4,
  "nbformat_minor": 0,
  "metadata": {
    "colab": {
      "name": "TugasSLO_2201202071_Ernando Rizki D.ipynb",
      "provenance": [],
      "collapsed_sections": [],
      "mount_file_id": "1AF3nxOG7pTU01EURCovCeyCqgLKA3STV",
      "authorship_tag": "ABX9TyMXjliGvtsu3LYxUwR/5AC1",
      "include_colab_link": true
    },
    "kernelspec": {
      "name": "python3",
      "display_name": "Python 3"
    },
    "language_info": {
      "name": "python"
    }
  },
  "cells": [
    {
      "cell_type": "markdown",
      "metadata": {
        "id": "view-in-github",
        "colab_type": "text"
      },
      "source": [
        "<a href=\"https://colab.research.google.com/github/ErnandoRizkiD/TugasSLO/blob/main/TugasSLO_2201202071_Ernando_Rizki_D.ipynb\" target=\"_parent\"><img src=\"https://colab.research.google.com/assets/colab-badge.svg\" alt=\"Open In Colab\"/></a>"
      ]
    },
    {
      "cell_type": "code",
      "metadata": {
        "id": "myL16Gj8StHJ",
        "colab": {
          "base_uri": "https://localhost:8080/"
        },
        "outputId": "df1f8577-92ad-4f98-d7a6-2851dbce0944"
      },
      "source": [
        "from google.colab import drive\n",
        "drive.mount('/content/drive')"
      ],
      "execution_count": null,
      "outputs": [
        {
          "output_type": "stream",
          "text": [
            "Drive already mounted at /content/drive; to attempt to forcibly remount, call drive.mount(\"/content/drive\", force_remount=True).\n"
          ],
          "name": "stdout"
        }
      ]
    },
    {
      "cell_type": "code",
      "metadata": {
        "colab": {
          "base_uri": "https://localhost:8080/"
        },
        "id": "pjmScX7XeAZN",
        "outputId": "b174b00b-7aac-4faf-ea85-2cbd71ecb7a2"
      },
      "source": [
        "cd/content/drive/MyDrive/Colab Notebooks"
      ],
      "execution_count": null,
      "outputs": [
        {
          "output_type": "stream",
          "text": [
            "/content/drive/MyDrive/Colab Notebooks\n"
          ],
          "name": "stdout"
        }
      ]
    },
    {
      "cell_type": "code",
      "metadata": {
        "id": "HWZ9gdtnfeL5"
      },
      "source": [
        "from sklearn.neighbors import KNeighborsClassifier\n",
        "from sklearn.naive_bayes import GaussianNB\n",
        "from sklearn.linear_model import LogisticRegression\n",
        "from sklearn.svm import SVC\n",
        "from sklearn.tree import DecisionTreeClassifier\n",
        "from sklearn.ensemble import RandomForestClassifier\n",
        "from sklearn.neural_network import MLPClassifier\n",
        "from sklearn.model_selection import train_test_split\n",
        "from sklearn.metrics import classification_report"
      ],
      "execution_count": null,
      "outputs": []
    },
    {
      "cell_type": "code",
      "metadata": {
        "id": "vqbnak4Df0_A"
      },
      "source": [
        "import numpy as np\n",
        "import pandas as pd\n",
        "import matplotlib.pyplot as plt"
      ],
      "execution_count": null,
      "outputs": []
    },
    {
      "cell_type": "code",
      "metadata": {
        "colab": {
          "base_uri": "https://localhost:8080/",
          "height": 241
        },
        "id": "ZBZ8eC1WicRv",
        "outputId": "e11a1c5a-220b-4565-e4f9-b976f4b0e9c0"
      },
      "source": [
        "df = pd.read_csv('data_cancer.csv')\n",
        "df.head()"
      ],
      "execution_count": null,
      "outputs": [
        {
          "output_type": "execute_result",
          "data": {
            "text/html": [
              "<div>\n",
              "<style scoped>\n",
              "    .dataframe tbody tr th:only-of-type {\n",
              "        vertical-align: middle;\n",
              "    }\n",
              "\n",
              "    .dataframe tbody tr th {\n",
              "        vertical-align: top;\n",
              "    }\n",
              "\n",
              "    .dataframe thead th {\n",
              "        text-align: right;\n",
              "    }\n",
              "</style>\n",
              "<table border=\"1\" class=\"dataframe\">\n",
              "  <thead>\n",
              "    <tr style=\"text-align: right;\">\n",
              "      <th></th>\n",
              "      <th>id</th>\n",
              "      <th>diagnosis</th>\n",
              "      <th>radius_mean</th>\n",
              "      <th>texture_mean</th>\n",
              "      <th>perimeter_mean</th>\n",
              "      <th>area_mean</th>\n",
              "      <th>smoothness_mean</th>\n",
              "      <th>compactness_mean</th>\n",
              "      <th>concavity_mean</th>\n",
              "      <th>concave points_mean</th>\n",
              "      <th>symmetry_mean</th>\n",
              "      <th>fractal_dimension_mean</th>\n",
              "      <th>radius_se</th>\n",
              "      <th>texture_se</th>\n",
              "      <th>perimeter_se</th>\n",
              "      <th>area_se</th>\n",
              "      <th>smoothness_se</th>\n",
              "      <th>compactness_se</th>\n",
              "      <th>concavity_se</th>\n",
              "      <th>concave points_se</th>\n",
              "      <th>symmetry_se</th>\n",
              "      <th>fractal_dimension_se</th>\n",
              "      <th>radius_worst</th>\n",
              "      <th>texture_worst</th>\n",
              "      <th>perimeter_worst</th>\n",
              "      <th>area_worst</th>\n",
              "      <th>smoothness_worst</th>\n",
              "      <th>compactness_worst</th>\n",
              "      <th>concavity_worst</th>\n",
              "      <th>concave points_worst</th>\n",
              "      <th>symmetry_worst</th>\n",
              "      <th>fractal_dimension_worst</th>\n",
              "      <th>Unnamed: 32</th>\n",
              "    </tr>\n",
              "  </thead>\n",
              "  <tbody>\n",
              "    <tr>\n",
              "      <th>0</th>\n",
              "      <td>842302</td>\n",
              "      <td>M</td>\n",
              "      <td>17.99</td>\n",
              "      <td>10.38</td>\n",
              "      <td>122.80</td>\n",
              "      <td>1001.0</td>\n",
              "      <td>0.11840</td>\n",
              "      <td>0.27760</td>\n",
              "      <td>0.3001</td>\n",
              "      <td>0.14710</td>\n",
              "      <td>0.2419</td>\n",
              "      <td>0.07871</td>\n",
              "      <td>1.0950</td>\n",
              "      <td>0.9053</td>\n",
              "      <td>8.589</td>\n",
              "      <td>153.40</td>\n",
              "      <td>0.006399</td>\n",
              "      <td>0.04904</td>\n",
              "      <td>0.05373</td>\n",
              "      <td>0.01587</td>\n",
              "      <td>0.03003</td>\n",
              "      <td>0.006193</td>\n",
              "      <td>25.38</td>\n",
              "      <td>17.33</td>\n",
              "      <td>184.60</td>\n",
              "      <td>2019.0</td>\n",
              "      <td>0.1622</td>\n",
              "      <td>0.6656</td>\n",
              "      <td>0.7119</td>\n",
              "      <td>0.2654</td>\n",
              "      <td>0.4601</td>\n",
              "      <td>0.11890</td>\n",
              "      <td>NaN</td>\n",
              "    </tr>\n",
              "    <tr>\n",
              "      <th>1</th>\n",
              "      <td>842517</td>\n",
              "      <td>M</td>\n",
              "      <td>20.57</td>\n",
              "      <td>17.77</td>\n",
              "      <td>132.90</td>\n",
              "      <td>1326.0</td>\n",
              "      <td>0.08474</td>\n",
              "      <td>0.07864</td>\n",
              "      <td>0.0869</td>\n",
              "      <td>0.07017</td>\n",
              "      <td>0.1812</td>\n",
              "      <td>0.05667</td>\n",
              "      <td>0.5435</td>\n",
              "      <td>0.7339</td>\n",
              "      <td>3.398</td>\n",
              "      <td>74.08</td>\n",
              "      <td>0.005225</td>\n",
              "      <td>0.01308</td>\n",
              "      <td>0.01860</td>\n",
              "      <td>0.01340</td>\n",
              "      <td>0.01389</td>\n",
              "      <td>0.003532</td>\n",
              "      <td>24.99</td>\n",
              "      <td>23.41</td>\n",
              "      <td>158.80</td>\n",
              "      <td>1956.0</td>\n",
              "      <td>0.1238</td>\n",
              "      <td>0.1866</td>\n",
              "      <td>0.2416</td>\n",
              "      <td>0.1860</td>\n",
              "      <td>0.2750</td>\n",
              "      <td>0.08902</td>\n",
              "      <td>NaN</td>\n",
              "    </tr>\n",
              "    <tr>\n",
              "      <th>2</th>\n",
              "      <td>84300903</td>\n",
              "      <td>M</td>\n",
              "      <td>19.69</td>\n",
              "      <td>21.25</td>\n",
              "      <td>130.00</td>\n",
              "      <td>1203.0</td>\n",
              "      <td>0.10960</td>\n",
              "      <td>0.15990</td>\n",
              "      <td>0.1974</td>\n",
              "      <td>0.12790</td>\n",
              "      <td>0.2069</td>\n",
              "      <td>0.05999</td>\n",
              "      <td>0.7456</td>\n",
              "      <td>0.7869</td>\n",
              "      <td>4.585</td>\n",
              "      <td>94.03</td>\n",
              "      <td>0.006150</td>\n",
              "      <td>0.04006</td>\n",
              "      <td>0.03832</td>\n",
              "      <td>0.02058</td>\n",
              "      <td>0.02250</td>\n",
              "      <td>0.004571</td>\n",
              "      <td>23.57</td>\n",
              "      <td>25.53</td>\n",
              "      <td>152.50</td>\n",
              "      <td>1709.0</td>\n",
              "      <td>0.1444</td>\n",
              "      <td>0.4245</td>\n",
              "      <td>0.4504</td>\n",
              "      <td>0.2430</td>\n",
              "      <td>0.3613</td>\n",
              "      <td>0.08758</td>\n",
              "      <td>NaN</td>\n",
              "    </tr>\n",
              "    <tr>\n",
              "      <th>3</th>\n",
              "      <td>84348301</td>\n",
              "      <td>M</td>\n",
              "      <td>11.42</td>\n",
              "      <td>20.38</td>\n",
              "      <td>77.58</td>\n",
              "      <td>386.1</td>\n",
              "      <td>0.14250</td>\n",
              "      <td>0.28390</td>\n",
              "      <td>0.2414</td>\n",
              "      <td>0.10520</td>\n",
              "      <td>0.2597</td>\n",
              "      <td>0.09744</td>\n",
              "      <td>0.4956</td>\n",
              "      <td>1.1560</td>\n",
              "      <td>3.445</td>\n",
              "      <td>27.23</td>\n",
              "      <td>0.009110</td>\n",
              "      <td>0.07458</td>\n",
              "      <td>0.05661</td>\n",
              "      <td>0.01867</td>\n",
              "      <td>0.05963</td>\n",
              "      <td>0.009208</td>\n",
              "      <td>14.91</td>\n",
              "      <td>26.50</td>\n",
              "      <td>98.87</td>\n",
              "      <td>567.7</td>\n",
              "      <td>0.2098</td>\n",
              "      <td>0.8663</td>\n",
              "      <td>0.6869</td>\n",
              "      <td>0.2575</td>\n",
              "      <td>0.6638</td>\n",
              "      <td>0.17300</td>\n",
              "      <td>NaN</td>\n",
              "    </tr>\n",
              "    <tr>\n",
              "      <th>4</th>\n",
              "      <td>84358402</td>\n",
              "      <td>M</td>\n",
              "      <td>20.29</td>\n",
              "      <td>14.34</td>\n",
              "      <td>135.10</td>\n",
              "      <td>1297.0</td>\n",
              "      <td>0.10030</td>\n",
              "      <td>0.13280</td>\n",
              "      <td>0.1980</td>\n",
              "      <td>0.10430</td>\n",
              "      <td>0.1809</td>\n",
              "      <td>0.05883</td>\n",
              "      <td>0.7572</td>\n",
              "      <td>0.7813</td>\n",
              "      <td>5.438</td>\n",
              "      <td>94.44</td>\n",
              "      <td>0.011490</td>\n",
              "      <td>0.02461</td>\n",
              "      <td>0.05688</td>\n",
              "      <td>0.01885</td>\n",
              "      <td>0.01756</td>\n",
              "      <td>0.005115</td>\n",
              "      <td>22.54</td>\n",
              "      <td>16.67</td>\n",
              "      <td>152.20</td>\n",
              "      <td>1575.0</td>\n",
              "      <td>0.1374</td>\n",
              "      <td>0.2050</td>\n",
              "      <td>0.4000</td>\n",
              "      <td>0.1625</td>\n",
              "      <td>0.2364</td>\n",
              "      <td>0.07678</td>\n",
              "      <td>NaN</td>\n",
              "    </tr>\n",
              "  </tbody>\n",
              "</table>\n",
              "</div>"
            ],
            "text/plain": [
              "         id diagnosis  ...  fractal_dimension_worst  Unnamed: 32\n",
              "0    842302         M  ...                  0.11890          NaN\n",
              "1    842517         M  ...                  0.08902          NaN\n",
              "2  84300903         M  ...                  0.08758          NaN\n",
              "3  84348301         M  ...                  0.17300          NaN\n",
              "4  84358402         M  ...                  0.07678          NaN\n",
              "\n",
              "[5 rows x 33 columns]"
            ]
          },
          "metadata": {
            "tags": []
          },
          "execution_count": 73
        }
      ]
    },
    {
      "cell_type": "code",
      "metadata": {
        "id": "Csi57-lvlFlo"
      },
      "source": [
        "X = df.iloc[:,[2,3,4,5,6,7,8,9,10,11,12,13,14,15,16,17,18,19,20,21,22,23,24,25,26,27,28,29,30]].values\n",
        "Y = df.iloc[:,[1]].values"
      ],
      "execution_count": null,
      "outputs": []
    },
    {
      "cell_type": "code",
      "metadata": {
        "id": "-J_uP2C2meEL",
        "colab": {
          "base_uri": "https://localhost:8080/"
        },
        "outputId": "60616ddd-8881-4352-8936-4bc807d6c8da"
      },
      "source": [
        "print(Y)"
      ],
      "execution_count": null,
      "outputs": [
        {
          "output_type": "stream",
          "text": [
            "[['M']\n",
            " ['M']\n",
            " ['M']\n",
            " ['M']\n",
            " ['M']\n",
            " ['M']\n",
            " ['M']\n",
            " ['M']\n",
            " ['M']\n",
            " ['M']\n",
            " ['M']\n",
            " ['M']\n",
            " ['M']\n",
            " ['M']\n",
            " ['M']\n",
            " ['M']\n",
            " ['M']\n",
            " ['M']\n",
            " ['M']\n",
            " ['B']\n",
            " ['B']\n",
            " ['B']\n",
            " ['M']\n",
            " ['M']\n",
            " ['M']\n",
            " ['M']\n",
            " ['M']\n",
            " ['M']\n",
            " ['M']\n",
            " ['M']\n",
            " ['M']\n",
            " ['M']\n",
            " ['M']\n",
            " ['M']\n",
            " ['M']\n",
            " ['M']\n",
            " ['M']\n",
            " ['B']\n",
            " ['M']\n",
            " ['M']\n",
            " ['M']\n",
            " ['M']\n",
            " ['M']\n",
            " ['M']\n",
            " ['M']\n",
            " ['M']\n",
            " ['B']\n",
            " ['M']\n",
            " ['B']\n",
            " ['B']\n",
            " ['B']\n",
            " ['B']\n",
            " ['B']\n",
            " ['M']\n",
            " ['M']\n",
            " ['B']\n",
            " ['M']\n",
            " ['M']\n",
            " ['B']\n",
            " ['B']\n",
            " ['B']\n",
            " ['B']\n",
            " ['M']\n",
            " ['B']\n",
            " ['M']\n",
            " ['M']\n",
            " ['B']\n",
            " ['B']\n",
            " ['B']\n",
            " ['B']\n",
            " ['M']\n",
            " ['B']\n",
            " ['M']\n",
            " ['M']\n",
            " ['B']\n",
            " ['M']\n",
            " ['B']\n",
            " ['M']\n",
            " ['M']\n",
            " ['B']\n",
            " ['B']\n",
            " ['B']\n",
            " ['M']\n",
            " ['M']\n",
            " ['B']\n",
            " ['M']\n",
            " ['M']\n",
            " ['M']\n",
            " ['B']\n",
            " ['B']\n",
            " ['B']\n",
            " ['M']\n",
            " ['B']\n",
            " ['B']\n",
            " ['M']\n",
            " ['M']\n",
            " ['B']\n",
            " ['B']\n",
            " ['B']\n",
            " ['M']\n",
            " ['M']\n",
            " ['B']\n",
            " ['B']\n",
            " ['B']\n",
            " ['B']\n",
            " ['M']\n",
            " ['B']\n",
            " ['B']\n",
            " ['M']\n",
            " ['B']\n",
            " ['B']\n",
            " ['B']\n",
            " ['B']\n",
            " ['B']\n",
            " ['B']\n",
            " ['B']\n",
            " ['B']\n",
            " ['M']\n",
            " ['M']\n",
            " ['M']\n",
            " ['B']\n",
            " ['M']\n",
            " ['M']\n",
            " ['B']\n",
            " ['B']\n",
            " ['B']\n",
            " ['M']\n",
            " ['M']\n",
            " ['B']\n",
            " ['M']\n",
            " ['B']\n",
            " ['M']\n",
            " ['M']\n",
            " ['B']\n",
            " ['M']\n",
            " ['M']\n",
            " ['B']\n",
            " ['B']\n",
            " ['M']\n",
            " ['B']\n",
            " ['B']\n",
            " ['M']\n",
            " ['B']\n",
            " ['B']\n",
            " ['B']\n",
            " ['B']\n",
            " ['M']\n",
            " ['B']\n",
            " ['B']\n",
            " ['B']\n",
            " ['B']\n",
            " ['B']\n",
            " ['B']\n",
            " ['B']\n",
            " ['B']\n",
            " ['B']\n",
            " ['M']\n",
            " ['B']\n",
            " ['B']\n",
            " ['B']\n",
            " ['B']\n",
            " ['M']\n",
            " ['M']\n",
            " ['B']\n",
            " ['M']\n",
            " ['B']\n",
            " ['B']\n",
            " ['M']\n",
            " ['M']\n",
            " ['B']\n",
            " ['B']\n",
            " ['M']\n",
            " ['M']\n",
            " ['B']\n",
            " ['B']\n",
            " ['B']\n",
            " ['B']\n",
            " ['M']\n",
            " ['B']\n",
            " ['B']\n",
            " ['M']\n",
            " ['M']\n",
            " ['M']\n",
            " ['B']\n",
            " ['M']\n",
            " ['B']\n",
            " ['M']\n",
            " ['B']\n",
            " ['B']\n",
            " ['B']\n",
            " ['M']\n",
            " ['B']\n",
            " ['B']\n",
            " ['M']\n",
            " ['M']\n",
            " ['B']\n",
            " ['M']\n",
            " ['M']\n",
            " ['M']\n",
            " ['M']\n",
            " ['B']\n",
            " ['M']\n",
            " ['M']\n",
            " ['M']\n",
            " ['B']\n",
            " ['M']\n",
            " ['B']\n",
            " ['M']\n",
            " ['B']\n",
            " ['B']\n",
            " ['M']\n",
            " ['B']\n",
            " ['M']\n",
            " ['M']\n",
            " ['M']\n",
            " ['M']\n",
            " ['B']\n",
            " ['B']\n",
            " ['M']\n",
            " ['M']\n",
            " ['B']\n",
            " ['B']\n",
            " ['B']\n",
            " ['M']\n",
            " ['B']\n",
            " ['B']\n",
            " ['B']\n",
            " ['B']\n",
            " ['B']\n",
            " ['M']\n",
            " ['M']\n",
            " ['B']\n",
            " ['B']\n",
            " ['M']\n",
            " ['B']\n",
            " ['B']\n",
            " ['M']\n",
            " ['M']\n",
            " ['B']\n",
            " ['M']\n",
            " ['B']\n",
            " ['B']\n",
            " ['B']\n",
            " ['B']\n",
            " ['M']\n",
            " ['B']\n",
            " ['B']\n",
            " ['B']\n",
            " ['B']\n",
            " ['B']\n",
            " ['M']\n",
            " ['B']\n",
            " ['M']\n",
            " ['M']\n",
            " ['M']\n",
            " ['M']\n",
            " ['M']\n",
            " ['M']\n",
            " ['M']\n",
            " ['M']\n",
            " ['M']\n",
            " ['M']\n",
            " ['M']\n",
            " ['M']\n",
            " ['M']\n",
            " ['M']\n",
            " ['B']\n",
            " ['B']\n",
            " ['B']\n",
            " ['B']\n",
            " ['B']\n",
            " ['B']\n",
            " ['M']\n",
            " ['B']\n",
            " ['M']\n",
            " ['B']\n",
            " ['B']\n",
            " ['M']\n",
            " ['B']\n",
            " ['B']\n",
            " ['M']\n",
            " ['B']\n",
            " ['M']\n",
            " ['M']\n",
            " ['B']\n",
            " ['B']\n",
            " ['B']\n",
            " ['B']\n",
            " ['B']\n",
            " ['B']\n",
            " ['B']\n",
            " ['B']\n",
            " ['B']\n",
            " ['B']\n",
            " ['B']\n",
            " ['B']\n",
            " ['B']\n",
            " ['M']\n",
            " ['B']\n",
            " ['B']\n",
            " ['M']\n",
            " ['B']\n",
            " ['M']\n",
            " ['B']\n",
            " ['B']\n",
            " ['B']\n",
            " ['B']\n",
            " ['B']\n",
            " ['B']\n",
            " ['B']\n",
            " ['B']\n",
            " ['B']\n",
            " ['B']\n",
            " ['B']\n",
            " ['B']\n",
            " ['B']\n",
            " ['B']\n",
            " ['M']\n",
            " ['B']\n",
            " ['B']\n",
            " ['B']\n",
            " ['M']\n",
            " ['B']\n",
            " ['M']\n",
            " ['B']\n",
            " ['B']\n",
            " ['B']\n",
            " ['B']\n",
            " ['M']\n",
            " ['M']\n",
            " ['M']\n",
            " ['B']\n",
            " ['B']\n",
            " ['B']\n",
            " ['B']\n",
            " ['M']\n",
            " ['B']\n",
            " ['M']\n",
            " ['B']\n",
            " ['M']\n",
            " ['B']\n",
            " ['B']\n",
            " ['B']\n",
            " ['M']\n",
            " ['B']\n",
            " ['B']\n",
            " ['B']\n",
            " ['B']\n",
            " ['B']\n",
            " ['B']\n",
            " ['B']\n",
            " ['M']\n",
            " ['M']\n",
            " ['M']\n",
            " ['B']\n",
            " ['B']\n",
            " ['B']\n",
            " ['B']\n",
            " ['B']\n",
            " ['B']\n",
            " ['B']\n",
            " ['B']\n",
            " ['B']\n",
            " ['B']\n",
            " ['B']\n",
            " ['M']\n",
            " ['M']\n",
            " ['B']\n",
            " ['M']\n",
            " ['M']\n",
            " ['M']\n",
            " ['B']\n",
            " ['M']\n",
            " ['M']\n",
            " ['B']\n",
            " ['B']\n",
            " ['B']\n",
            " ['B']\n",
            " ['B']\n",
            " ['M']\n",
            " ['B']\n",
            " ['B']\n",
            " ['B']\n",
            " ['B']\n",
            " ['B']\n",
            " ['M']\n",
            " ['B']\n",
            " ['B']\n",
            " ['B']\n",
            " ['M']\n",
            " ['B']\n",
            " ['B']\n",
            " ['M']\n",
            " ['M']\n",
            " ['B']\n",
            " ['B']\n",
            " ['B']\n",
            " ['B']\n",
            " ['B']\n",
            " ['B']\n",
            " ['M']\n",
            " ['B']\n",
            " ['B']\n",
            " ['B']\n",
            " ['B']\n",
            " ['B']\n",
            " ['B']\n",
            " ['B']\n",
            " ['M']\n",
            " ['B']\n",
            " ['B']\n",
            " ['B']\n",
            " ['B']\n",
            " ['B']\n",
            " ['M']\n",
            " ['B']\n",
            " ['B']\n",
            " ['M']\n",
            " ['B']\n",
            " ['B']\n",
            " ['B']\n",
            " ['B']\n",
            " ['B']\n",
            " ['B']\n",
            " ['B']\n",
            " ['B']\n",
            " ['B']\n",
            " ['B']\n",
            " ['B']\n",
            " ['B']\n",
            " ['M']\n",
            " ['B']\n",
            " ['M']\n",
            " ['M']\n",
            " ['B']\n",
            " ['M']\n",
            " ['B']\n",
            " ['B']\n",
            " ['B']\n",
            " ['B']\n",
            " ['B']\n",
            " ['M']\n",
            " ['B']\n",
            " ['B']\n",
            " ['M']\n",
            " ['B']\n",
            " ['M']\n",
            " ['B']\n",
            " ['B']\n",
            " ['M']\n",
            " ['B']\n",
            " ['M']\n",
            " ['B']\n",
            " ['B']\n",
            " ['B']\n",
            " ['B']\n",
            " ['B']\n",
            " ['B']\n",
            " ['B']\n",
            " ['B']\n",
            " ['M']\n",
            " ['M']\n",
            " ['B']\n",
            " ['B']\n",
            " ['B']\n",
            " ['B']\n",
            " ['B']\n",
            " ['B']\n",
            " ['M']\n",
            " ['B']\n",
            " ['B']\n",
            " ['B']\n",
            " ['B']\n",
            " ['B']\n",
            " ['B']\n",
            " ['B']\n",
            " ['B']\n",
            " ['B']\n",
            " ['B']\n",
            " ['M']\n",
            " ['B']\n",
            " ['B']\n",
            " ['B']\n",
            " ['B']\n",
            " ['B']\n",
            " ['B']\n",
            " ['B']\n",
            " ['M']\n",
            " ['B']\n",
            " ['M']\n",
            " ['B']\n",
            " ['B']\n",
            " ['M']\n",
            " ['B']\n",
            " ['B']\n",
            " ['B']\n",
            " ['B']\n",
            " ['B']\n",
            " ['M']\n",
            " ['M']\n",
            " ['B']\n",
            " ['M']\n",
            " ['B']\n",
            " ['M']\n",
            " ['B']\n",
            " ['B']\n",
            " ['B']\n",
            " ['B']\n",
            " ['B']\n",
            " ['M']\n",
            " ['B']\n",
            " ['B']\n",
            " ['M']\n",
            " ['B']\n",
            " ['M']\n",
            " ['B']\n",
            " ['M']\n",
            " ['M']\n",
            " ['B']\n",
            " ['B']\n",
            " ['B']\n",
            " ['M']\n",
            " ['B']\n",
            " ['B']\n",
            " ['B']\n",
            " ['B']\n",
            " ['B']\n",
            " ['B']\n",
            " ['B']\n",
            " ['B']\n",
            " ['B']\n",
            " ['B']\n",
            " ['B']\n",
            " ['M']\n",
            " ['B']\n",
            " ['M']\n",
            " ['M']\n",
            " ['B']\n",
            " ['B']\n",
            " ['B']\n",
            " ['B']\n",
            " ['B']\n",
            " ['B']\n",
            " ['B']\n",
            " ['B']\n",
            " ['B']\n",
            " ['B']\n",
            " ['B']\n",
            " ['B']\n",
            " ['B']\n",
            " ['B']\n",
            " ['B']\n",
            " ['B']\n",
            " ['B']\n",
            " ['B']\n",
            " ['B']\n",
            " ['B']\n",
            " ['B']\n",
            " ['B']\n",
            " ['B']\n",
            " ['B']\n",
            " ['B']\n",
            " ['M']\n",
            " ['M']\n",
            " ['M']\n",
            " ['M']\n",
            " ['M']\n",
            " ['M']\n",
            " ['B']]\n"
          ],
          "name": "stdout"
        }
      ]
    },
    {
      "cell_type": "code",
      "metadata": {
        "colab": {
          "base_uri": "https://localhost:8080/"
        },
        "id": "rssZdn0aopaK",
        "outputId": "1533cf0f-0148-407a-ac2f-7eb9b978e74c"
      },
      "source": [
        "test_X = df.iloc[:,[2,3,4,5,6,7,8,9,10,11,12,13,14,15,16,17,18,19,20,21,22,23,24,25,26,27,28,29,30]].values\n",
        "print(test_X.shape)"
      ],
      "execution_count": null,
      "outputs": [
        {
          "output_type": "stream",
          "text": [
            "(569, 29)\n"
          ],
          "name": "stdout"
        }
      ]
    },
    {
      "cell_type": "code",
      "metadata": {
        "colab": {
          "base_uri": "https://localhost:8080/"
        },
        "id": "BMGtk0aqo-3e",
        "outputId": "30f1bb86-74c5-4f5e-e78c-ef34bac20e54"
      },
      "source": [
        "target_names = df['diagnosis'].unique()\n",
        "print(target_names)"
      ],
      "execution_count": null,
      "outputs": [
        {
          "output_type": "stream",
          "text": [
            "['M' 'B']\n"
          ],
          "name": "stdout"
        }
      ]
    },
    {
      "cell_type": "code",
      "metadata": {
        "colab": {
          "base_uri": "https://localhost:8080/"
        },
        "id": "spJ2mYdypQqP",
        "outputId": "113b7537-cfc7-458c-eeb7-0c9185e23a48"
      },
      "source": [
        "print(Y.shape)\n",
        "print (X.shape)"
      ],
      "execution_count": null,
      "outputs": [
        {
          "output_type": "stream",
          "text": [
            "(569, 1)\n",
            "(569, 29)\n"
          ],
          "name": "stdout"
        }
      ]
    },
    {
      "cell_type": "code",
      "metadata": {
        "colab": {
          "base_uri": "https://localhost:8080/"
        },
        "id": "OqhnTXVKpeU-",
        "outputId": "a7e0cdcd-fa99-4da8-dd55-62b5a3338c6d"
      },
      "source": [
        "(trainX, testX, trainY, testY) = train_test_split(X, Y, random_state=3, test_size=0.3)\n",
        "print(trainX.shape)\n",
        "print(testX.shape)\n",
        "print(trainY.shape)\n",
        "print(testY.shape)"
      ],
      "execution_count": null,
      "outputs": [
        {
          "output_type": "stream",
          "text": [
            "(398, 29)\n",
            "(171, 29)\n",
            "(398, 1)\n",
            "(171, 1)\n"
          ],
          "name": "stdout"
        }
      ]
    },
    {
      "cell_type": "code",
      "metadata": {
        "id": "5_Wqkl-hpqN3"
      },
      "source": [
        "models = {\n",
        "\t\"knn\": KNeighborsClassifier(n_neighbors=3),\n",
        "\t\"naive_bayes\": GaussianNB(),\n",
        "\t\"logit\": LogisticRegression(solver=\"lbfgs\", multi_class=\"auto\"),\n",
        "\t\"svm\": SVC(kernel=\"rbf\", gamma=\"auto\"),\n",
        "\t\"decision_tree\": DecisionTreeClassifier(),\n",
        "\t\"random_forest\": RandomForestClassifier(n_estimators=100),\n",
        "\t\"mlp\": MLPClassifier()\n",
        "}"
      ],
      "execution_count": null,
      "outputs": []
    },
    {
      "cell_type": "code",
      "metadata": {
        "colab": {
          "base_uri": "https://localhost:8080/"
        },
        "id": "bJMURIrard4v",
        "outputId": "724d42df-b564-4481-e2bf-af5722b1d6c2"
      },
      "source": [
        "print(\"[INFO] using '{}' model\".format(\"knn\"))\n",
        "model = models[\"knn\"]\n",
        "model.fit(trainX, trainY)"
      ],
      "execution_count": null,
      "outputs": [
        {
          "output_type": "stream",
          "text": [
            "[INFO] using 'knn' model\n"
          ],
          "name": "stdout"
        },
        {
          "output_type": "stream",
          "text": [
            "/usr/local/lib/python3.7/dist-packages/ipykernel_launcher.py:3: DataConversionWarning: A column-vector y was passed when a 1d array was expected. Please change the shape of y to (n_samples, ), for example using ravel().\n",
            "  This is separate from the ipykernel package so we can avoid doing imports until\n"
          ],
          "name": "stderr"
        },
        {
          "output_type": "execute_result",
          "data": {
            "text/plain": [
              "KNeighborsClassifier(algorithm='auto', leaf_size=30, metric='minkowski',\n",
              "                     metric_params=None, n_jobs=None, n_neighbors=3, p=2,\n",
              "                     weights='uniform')"
            ]
          },
          "metadata": {
            "tags": []
          },
          "execution_count": 81
        }
      ]
    },
    {
      "cell_type": "code",
      "metadata": {
        "colab": {
          "base_uri": "https://localhost:8080/"
        },
        "id": "Q0v1S3KjriS4",
        "outputId": "544c3e57-b566-42c4-aeed-5d9ade7a9c6e"
      },
      "source": [
        "print(\"[INFO] evaluating...\")\n",
        "predictions = model.predict(testX)\n",
        "print(predictions)"
      ],
      "execution_count": null,
      "outputs": [
        {
          "output_type": "stream",
          "text": [
            "[INFO] evaluating...\n",
            "['B' 'B' 'B' 'B' 'M' 'B' 'B' 'B' 'B' 'B' 'B' 'B' 'B' 'B' 'B' 'B' 'B' 'B'\n",
            " 'M' 'B' 'B' 'B' 'B' 'M' 'B' 'B' 'B' 'M' 'M' 'M' 'M' 'B' 'M' 'B' 'B' 'B'\n",
            " 'B' 'B' 'M' 'M' 'M' 'B' 'B' 'M' 'B' 'B' 'B' 'M' 'M' 'B' 'M' 'B' 'B' 'M'\n",
            " 'M' 'B' 'B' 'M' 'B' 'B' 'B' 'B' 'M' 'M' 'B' 'B' 'M' 'B' 'M' 'M' 'B' 'B'\n",
            " 'M' 'M' 'B' 'M' 'B' 'M' 'B' 'M' 'M' 'B' 'B' 'B' 'M' 'M' 'B' 'B' 'B' 'B'\n",
            " 'M' 'M' 'M' 'B' 'B' 'M' 'B' 'M' 'B' 'B' 'B' 'B' 'B' 'B' 'B' 'M' 'M' 'B'\n",
            " 'M' 'B' 'B' 'M' 'B' 'B' 'M' 'M' 'B' 'B' 'M' 'M' 'B' 'B' 'M' 'B' 'M' 'B'\n",
            " 'M' 'B' 'B' 'B' 'B' 'B' 'M' 'B' 'B' 'B' 'B' 'M' 'B' 'M' 'B' 'B' 'M' 'B'\n",
            " 'B' 'M' 'B' 'B' 'M' 'B' 'B' 'M' 'B' 'B' 'B' 'B' 'M' 'B' 'M' 'B' 'B' 'B'\n",
            " 'M' 'B' 'B' 'M' 'B' 'M' 'B' 'B' 'B']\n"
          ],
          "name": "stdout"
        }
      ]
    },
    {
      "cell_type": "code",
      "metadata": {
        "colab": {
          "base_uri": "https://localhost:8080/"
        },
        "id": "6bT95H-crvYQ",
        "outputId": "d356225e-e246-437c-9da7-59c5bb5e4d4c"
      },
      "source": [
        "print(classification_report(testY, predictions,\n",
        "\ttarget_names=target_names))"
      ],
      "execution_count": null,
      "outputs": [
        {
          "output_type": "stream",
          "text": [
            "              precision    recall  f1-score   support\n",
            "\n",
            "           M       0.93      0.95      0.94       109\n",
            "           B       0.92      0.87      0.89        62\n",
            "\n",
            "    accuracy                           0.92       171\n",
            "   macro avg       0.92      0.91      0.92       171\n",
            "weighted avg       0.92      0.92      0.92       171\n",
            "\n"
          ],
          "name": "stdout"
        }
      ]
    },
    {
      "cell_type": "code",
      "metadata": {
        "colab": {
          "base_uri": "https://localhost:8080/"
        },
        "id": "qetKWmMXtUTp",
        "outputId": "8553f4e3-17b2-4860-98a9-1f20e09b5596"
      },
      "source": [
        "print(\"[INFO] using '{}' model\".format(\"naive_bayes\"))\n",
        "model = models[\"naive_bayes\"]\n",
        "model.fit(trainX, trainY)"
      ],
      "execution_count": null,
      "outputs": [
        {
          "output_type": "stream",
          "text": [
            "[INFO] using 'naive_bayes' model\n"
          ],
          "name": "stdout"
        },
        {
          "output_type": "stream",
          "text": [
            "/usr/local/lib/python3.7/dist-packages/sklearn/naive_bayes.py:206: DataConversionWarning: A column-vector y was passed when a 1d array was expected. Please change the shape of y to (n_samples, ), for example using ravel().\n",
            "  y = column_or_1d(y, warn=True)\n"
          ],
          "name": "stderr"
        },
        {
          "output_type": "execute_result",
          "data": {
            "text/plain": [
              "GaussianNB(priors=None, var_smoothing=1e-09)"
            ]
          },
          "metadata": {
            "tags": []
          },
          "execution_count": 84
        }
      ]
    },
    {
      "cell_type": "code",
      "metadata": {
        "colab": {
          "base_uri": "https://localhost:8080/"
        },
        "id": "nnZd_O86tbon",
        "outputId": "e1d9d62e-e14e-4548-9b7b-a5cdae67a802"
      },
      "source": [
        "print(\"[INFO] evaluating...\")\n",
        "predictions = model.predict(testX)\n",
        "print(classification_report(testY, predictions,target_names=target_names))\n"
      ],
      "execution_count": null,
      "outputs": [
        {
          "output_type": "stream",
          "text": [
            "[INFO] evaluating...\n",
            "              precision    recall  f1-score   support\n",
            "\n",
            "           M       0.94      0.97      0.95       109\n",
            "           B       0.95      0.89      0.92        62\n",
            "\n",
            "    accuracy                           0.94       171\n",
            "   macro avg       0.94      0.93      0.94       171\n",
            "weighted avg       0.94      0.94      0.94       171\n",
            "\n"
          ],
          "name": "stdout"
        }
      ]
    },
    {
      "cell_type": "code",
      "metadata": {
        "colab": {
          "base_uri": "https://localhost:8080/"
        },
        "id": "_kdtDk2r1Sm3",
        "outputId": "0b602741-4312-4be1-aec5-7e10b071cbc5"
      },
      "source": [
        "print(\"[INFO] using '{}' model\".format(\"logit\"))\n",
        "model = models[\"logit\"]\n",
        "model.fit(trainX, trainY)"
      ],
      "execution_count": null,
      "outputs": [
        {
          "output_type": "stream",
          "text": [
            "[INFO] using 'logit' model\n"
          ],
          "name": "stdout"
        },
        {
          "output_type": "stream",
          "text": [
            "/usr/local/lib/python3.7/dist-packages/sklearn/utils/validation.py:760: DataConversionWarning: A column-vector y was passed when a 1d array was expected. Please change the shape of y to (n_samples, ), for example using ravel().\n",
            "  y = column_or_1d(y, warn=True)\n",
            "/usr/local/lib/python3.7/dist-packages/sklearn/linear_model/_logistic.py:940: ConvergenceWarning: lbfgs failed to converge (status=1):\n",
            "STOP: TOTAL NO. of ITERATIONS REACHED LIMIT.\n",
            "\n",
            "Increase the number of iterations (max_iter) or scale the data as shown in:\n",
            "    https://scikit-learn.org/stable/modules/preprocessing.html\n",
            "Please also refer to the documentation for alternative solver options:\n",
            "    https://scikit-learn.org/stable/modules/linear_model.html#logistic-regression\n",
            "  extra_warning_msg=_LOGISTIC_SOLVER_CONVERGENCE_MSG)\n"
          ],
          "name": "stderr"
        },
        {
          "output_type": "execute_result",
          "data": {
            "text/plain": [
              "LogisticRegression(C=1.0, class_weight=None, dual=False, fit_intercept=True,\n",
              "                   intercept_scaling=1, l1_ratio=None, max_iter=100,\n",
              "                   multi_class='auto', n_jobs=None, penalty='l2',\n",
              "                   random_state=None, solver='lbfgs', tol=0.0001, verbose=0,\n",
              "                   warm_start=False)"
            ]
          },
          "metadata": {
            "tags": []
          },
          "execution_count": 86
        }
      ]
    },
    {
      "cell_type": "code",
      "metadata": {
        "colab": {
          "base_uri": "https://localhost:8080/"
        },
        "id": "57ngKEdz1YPv",
        "outputId": "3cfa1ba6-1b6e-424c-f317-f21e23c4d68d"
      },
      "source": [
        "print(\"[INFO] evaluating...\")\n",
        "predictions = model.predict(testX)\n",
        "print(classification_report(testY, predictions,\n",
        "\ttarget_names=target_names))"
      ],
      "execution_count": null,
      "outputs": [
        {
          "output_type": "stream",
          "text": [
            "[INFO] evaluating...\n",
            "              precision    recall  f1-score   support\n",
            "\n",
            "           M       0.93      0.96      0.95       109\n",
            "           B       0.93      0.87      0.90        62\n",
            "\n",
            "    accuracy                           0.93       171\n",
            "   macro avg       0.93      0.92      0.92       171\n",
            "weighted avg       0.93      0.93      0.93       171\n",
            "\n"
          ],
          "name": "stdout"
        }
      ]
    },
    {
      "cell_type": "code",
      "metadata": {
        "colab": {
          "base_uri": "https://localhost:8080/"
        },
        "id": "1Mdbw1RZ1et4",
        "outputId": "c0d2ae0f-684c-4d22-99c6-326939e6f750"
      },
      "source": [
        "print(\"[INFO] using '{}' model\".format(\"svm\"))\n",
        "model = models[\"svm\"]\n",
        "model.fit(trainX, trainY)"
      ],
      "execution_count": null,
      "outputs": [
        {
          "output_type": "stream",
          "text": [
            "[INFO] using 'svm' model\n"
          ],
          "name": "stdout"
        },
        {
          "output_type": "stream",
          "text": [
            "/usr/local/lib/python3.7/dist-packages/sklearn/utils/validation.py:760: DataConversionWarning: A column-vector y was passed when a 1d array was expected. Please change the shape of y to (n_samples, ), for example using ravel().\n",
            "  y = column_or_1d(y, warn=True)\n"
          ],
          "name": "stderr"
        },
        {
          "output_type": "execute_result",
          "data": {
            "text/plain": [
              "SVC(C=1.0, break_ties=False, cache_size=200, class_weight=None, coef0=0.0,\n",
              "    decision_function_shape='ovr', degree=3, gamma='auto', kernel='rbf',\n",
              "    max_iter=-1, probability=False, random_state=None, shrinking=True,\n",
              "    tol=0.001, verbose=False)"
            ]
          },
          "metadata": {
            "tags": []
          },
          "execution_count": 88
        }
      ]
    },
    {
      "cell_type": "code",
      "metadata": {
        "colab": {
          "base_uri": "https://localhost:8080/"
        },
        "id": "o89jIscE1hgv",
        "outputId": "c60a4115-961f-48e5-a7c5-72e5136aeeb5"
      },
      "source": [
        "print(\"[INFO] evaluating...\")\n",
        "predictions = model.predict(testX)\n",
        "print(classification_report(testY, predictions,\n",
        "\ttarget_names=target_names))"
      ],
      "execution_count": null,
      "outputs": [
        {
          "output_type": "stream",
          "text": [
            "[INFO] evaluating...\n",
            "              precision    recall  f1-score   support\n",
            "\n",
            "           M       0.64      1.00      0.78       109\n",
            "           B       0.00      0.00      0.00        62\n",
            "\n",
            "    accuracy                           0.64       171\n",
            "   macro avg       0.32      0.50      0.39       171\n",
            "weighted avg       0.41      0.64      0.50       171\n",
            "\n"
          ],
          "name": "stdout"
        },
        {
          "output_type": "stream",
          "text": [
            "/usr/local/lib/python3.7/dist-packages/sklearn/metrics/_classification.py:1272: UndefinedMetricWarning: Precision and F-score are ill-defined and being set to 0.0 in labels with no predicted samples. Use `zero_division` parameter to control this behavior.\n",
            "  _warn_prf(average, modifier, msg_start, len(result))\n"
          ],
          "name": "stderr"
        }
      ]
    },
    {
      "cell_type": "code",
      "metadata": {
        "colab": {
          "base_uri": "https://localhost:8080/"
        },
        "id": "WSFCrlGl1vn4",
        "outputId": "56d1217f-cf3c-498b-a604-b0a36ec59c29"
      },
      "source": [
        "print(\"[INFO] using '{}' model\".format(\"decision_tree\"))\n",
        "model = models[\"decision_tree\"]\n",
        "model.fit(trainX, trainY)"
      ],
      "execution_count": null,
      "outputs": [
        {
          "output_type": "stream",
          "text": [
            "[INFO] using 'decision_tree' model\n"
          ],
          "name": "stdout"
        },
        {
          "output_type": "execute_result",
          "data": {
            "text/plain": [
              "DecisionTreeClassifier(ccp_alpha=0.0, class_weight=None, criterion='gini',\n",
              "                       max_depth=None, max_features=None, max_leaf_nodes=None,\n",
              "                       min_impurity_decrease=0.0, min_impurity_split=None,\n",
              "                       min_samples_leaf=1, min_samples_split=2,\n",
              "                       min_weight_fraction_leaf=0.0, presort='deprecated',\n",
              "                       random_state=None, splitter='best')"
            ]
          },
          "metadata": {
            "tags": []
          },
          "execution_count": 90
        }
      ]
    },
    {
      "cell_type": "code",
      "metadata": {
        "colab": {
          "base_uri": "https://localhost:8080/"
        },
        "id": "wTaKz0pK2P8H",
        "outputId": "031ed182-3b18-4824-d96f-9613c14edda5"
      },
      "source": [
        "print(\"[INFO] evaluating...\")\n",
        "predictions = model.predict(testX)\n",
        "print(classification_report(testY, predictions,\n",
        "\ttarget_names=target_names))"
      ],
      "execution_count": null,
      "outputs": [
        {
          "output_type": "stream",
          "text": [
            "[INFO] evaluating...\n",
            "              precision    recall  f1-score   support\n",
            "\n",
            "           M       0.96      0.97      0.97       109\n",
            "           B       0.95      0.94      0.94        62\n",
            "\n",
            "    accuracy                           0.96       171\n",
            "   macro avg       0.96      0.95      0.96       171\n",
            "weighted avg       0.96      0.96      0.96       171\n",
            "\n"
          ],
          "name": "stdout"
        }
      ]
    },
    {
      "cell_type": "code",
      "metadata": {
        "colab": {
          "base_uri": "https://localhost:8080/"
        },
        "id": "gyQFcRNp2TxH",
        "outputId": "5b9fc0e9-e88a-4326-88da-b4d2227842cc"
      },
      "source": [
        "print(\"[INFO] using '{}' model\".format(\"random_forest\"))\n",
        "model = models[\"random_forest\"]\n",
        "model.fit(trainX, trainY)"
      ],
      "execution_count": null,
      "outputs": [
        {
          "output_type": "stream",
          "text": [
            "/usr/local/lib/python3.7/dist-packages/ipykernel_launcher.py:3: DataConversionWarning: A column-vector y was passed when a 1d array was expected. Please change the shape of y to (n_samples,), for example using ravel().\n",
            "  This is separate from the ipykernel package so we can avoid doing imports until\n"
          ],
          "name": "stderr"
        },
        {
          "output_type": "stream",
          "text": [
            "[INFO] using 'random_forest' model\n"
          ],
          "name": "stdout"
        },
        {
          "output_type": "execute_result",
          "data": {
            "text/plain": [
              "RandomForestClassifier(bootstrap=True, ccp_alpha=0.0, class_weight=None,\n",
              "                       criterion='gini', max_depth=None, max_features='auto',\n",
              "                       max_leaf_nodes=None, max_samples=None,\n",
              "                       min_impurity_decrease=0.0, min_impurity_split=None,\n",
              "                       min_samples_leaf=1, min_samples_split=2,\n",
              "                       min_weight_fraction_leaf=0.0, n_estimators=100,\n",
              "                       n_jobs=None, oob_score=False, random_state=None,\n",
              "                       verbose=0, warm_start=False)"
            ]
          },
          "metadata": {
            "tags": []
          },
          "execution_count": 92
        }
      ]
    },
    {
      "cell_type": "code",
      "metadata": {
        "colab": {
          "base_uri": "https://localhost:8080/"
        },
        "id": "YFUKCZR52WYn",
        "outputId": "9cca95c4-b9f9-4112-fcbd-fe1b3627feb4"
      },
      "source": [
        "print(\"[INFO] evaluating...\")\n",
        "predictions = model.predict(testX)\n",
        "print(classification_report(testY, predictions,\n",
        "\ttarget_names=target_names))"
      ],
      "execution_count": null,
      "outputs": [
        {
          "output_type": "stream",
          "text": [
            "[INFO] evaluating...\n",
            "              precision    recall  f1-score   support\n",
            "\n",
            "           M       0.95      0.96      0.96       109\n",
            "           B       0.93      0.92      0.93        62\n",
            "\n",
            "    accuracy                           0.95       171\n",
            "   macro avg       0.94      0.94      0.94       171\n",
            "weighted avg       0.95      0.95      0.95       171\n",
            "\n"
          ],
          "name": "stdout"
        }
      ]
    },
    {
      "cell_type": "code",
      "metadata": {
        "colab": {
          "base_uri": "https://localhost:8080/"
        },
        "id": "TQ2wYVGw2ehX",
        "outputId": "7dc486ac-9f55-473f-831b-533b407fee38"
      },
      "source": [
        "print(\"[INFO] using '{}' model\".format(\"mlp\"))\n",
        "model = models[\"mlp\"]\n",
        "model.fit(trainX, trainY)"
      ],
      "execution_count": null,
      "outputs": [
        {
          "output_type": "stream",
          "text": [
            "[INFO] using 'mlp' model\n"
          ],
          "name": "stdout"
        },
        {
          "output_type": "stream",
          "text": [
            "/usr/local/lib/python3.7/dist-packages/sklearn/neural_network/_multilayer_perceptron.py:934: DataConversionWarning: A column-vector y was passed when a 1d array was expected. Please change the shape of y to (n_samples, ), for example using ravel().\n",
            "  y = column_or_1d(y, warn=True)\n",
            "/usr/local/lib/python3.7/dist-packages/sklearn/neural_network/_multilayer_perceptron.py:571: ConvergenceWarning: Stochastic Optimizer: Maximum iterations (200) reached and the optimization hasn't converged yet.\n",
            "  % self.max_iter, ConvergenceWarning)\n"
          ],
          "name": "stderr"
        },
        {
          "output_type": "execute_result",
          "data": {
            "text/plain": [
              "MLPClassifier(activation='relu', alpha=0.0001, batch_size='auto', beta_1=0.9,\n",
              "              beta_2=0.999, early_stopping=False, epsilon=1e-08,\n",
              "              hidden_layer_sizes=(100,), learning_rate='constant',\n",
              "              learning_rate_init=0.001, max_fun=15000, max_iter=200,\n",
              "              momentum=0.9, n_iter_no_change=10, nesterovs_momentum=True,\n",
              "              power_t=0.5, random_state=None, shuffle=True, solver='adam',\n",
              "              tol=0.0001, validation_fraction=0.1, verbose=False,\n",
              "              warm_start=False)"
            ]
          },
          "metadata": {
            "tags": []
          },
          "execution_count": 94
        }
      ]
    },
    {
      "cell_type": "code",
      "metadata": {
        "colab": {
          "base_uri": "https://localhost:8080/"
        },
        "id": "0KGS_d2K2jhn",
        "outputId": "3c3844ef-9643-47df-b4fb-afb410c4db97"
      },
      "source": [
        "print(\"[INFO] evaluating...\")\n",
        "predictions = model.predict(testX)\n",
        "print(classification_report(testY, predictions,\n",
        "\ttarget_names=target_names))"
      ],
      "execution_count": null,
      "outputs": [
        {
          "output_type": "stream",
          "text": [
            "[INFO] evaluating...\n",
            "              precision    recall  f1-score   support\n",
            "\n",
            "           M       0.95      0.98      0.96       109\n",
            "           B       0.97      0.90      0.93        62\n",
            "\n",
            "    accuracy                           0.95       171\n",
            "   macro avg       0.96      0.94      0.95       171\n",
            "weighted avg       0.95      0.95      0.95       171\n",
            "\n"
          ],
          "name": "stdout"
        }
      ]
    },
    {
      "cell_type": "markdown",
      "metadata": {
        "id": "1j5gipuLrxIo"
      },
      "source": [
        "Artificial Neural Network"
      ]
    },
    {
      "cell_type": "code",
      "metadata": {
        "id": "lAo8Ft1yr2yl"
      },
      "source": [
        "# import the necessary packages\n",
        "from keras.models import Sequential\n",
        "from keras.layers.core import Activation\n",
        "from keras.layers.core import Dense\n",
        "from keras.optimizers import Adam\n",
        "from sklearn.preprocessing import LabelBinarizer"
      ],
      "execution_count": 107,
      "outputs": []
    },
    {
      "cell_type": "code",
      "metadata": {
        "id": "dXw5Bwn-r5Xt",
        "colab": {
          "base_uri": "https://localhost:8080/"
        },
        "outputId": "691224b0-65e3-4f7a-f5e8-8209157041ff"
      },
      "source": [
        "lb = LabelBinarizer()\n",
        "labels = lb.fit_transform(Y)\n",
        "print(labels)"
      ],
      "execution_count": 108,
      "outputs": [
        {
          "output_type": "stream",
          "text": [
            "[[1]\n",
            " [1]\n",
            " [1]\n",
            " [1]\n",
            " [1]\n",
            " [1]\n",
            " [1]\n",
            " [1]\n",
            " [1]\n",
            " [1]\n",
            " [1]\n",
            " [1]\n",
            " [1]\n",
            " [1]\n",
            " [1]\n",
            " [1]\n",
            " [1]\n",
            " [1]\n",
            " [1]\n",
            " [0]\n",
            " [0]\n",
            " [0]\n",
            " [1]\n",
            " [1]\n",
            " [1]\n",
            " [1]\n",
            " [1]\n",
            " [1]\n",
            " [1]\n",
            " [1]\n",
            " [1]\n",
            " [1]\n",
            " [1]\n",
            " [1]\n",
            " [1]\n",
            " [1]\n",
            " [1]\n",
            " [0]\n",
            " [1]\n",
            " [1]\n",
            " [1]\n",
            " [1]\n",
            " [1]\n",
            " [1]\n",
            " [1]\n",
            " [1]\n",
            " [0]\n",
            " [1]\n",
            " [0]\n",
            " [0]\n",
            " [0]\n",
            " [0]\n",
            " [0]\n",
            " [1]\n",
            " [1]\n",
            " [0]\n",
            " [1]\n",
            " [1]\n",
            " [0]\n",
            " [0]\n",
            " [0]\n",
            " [0]\n",
            " [1]\n",
            " [0]\n",
            " [1]\n",
            " [1]\n",
            " [0]\n",
            " [0]\n",
            " [0]\n",
            " [0]\n",
            " [1]\n",
            " [0]\n",
            " [1]\n",
            " [1]\n",
            " [0]\n",
            " [1]\n",
            " [0]\n",
            " [1]\n",
            " [1]\n",
            " [0]\n",
            " [0]\n",
            " [0]\n",
            " [1]\n",
            " [1]\n",
            " [0]\n",
            " [1]\n",
            " [1]\n",
            " [1]\n",
            " [0]\n",
            " [0]\n",
            " [0]\n",
            " [1]\n",
            " [0]\n",
            " [0]\n",
            " [1]\n",
            " [1]\n",
            " [0]\n",
            " [0]\n",
            " [0]\n",
            " [1]\n",
            " [1]\n",
            " [0]\n",
            " [0]\n",
            " [0]\n",
            " [0]\n",
            " [1]\n",
            " [0]\n",
            " [0]\n",
            " [1]\n",
            " [0]\n",
            " [0]\n",
            " [0]\n",
            " [0]\n",
            " [0]\n",
            " [0]\n",
            " [0]\n",
            " [0]\n",
            " [1]\n",
            " [1]\n",
            " [1]\n",
            " [0]\n",
            " [1]\n",
            " [1]\n",
            " [0]\n",
            " [0]\n",
            " [0]\n",
            " [1]\n",
            " [1]\n",
            " [0]\n",
            " [1]\n",
            " [0]\n",
            " [1]\n",
            " [1]\n",
            " [0]\n",
            " [1]\n",
            " [1]\n",
            " [0]\n",
            " [0]\n",
            " [1]\n",
            " [0]\n",
            " [0]\n",
            " [1]\n",
            " [0]\n",
            " [0]\n",
            " [0]\n",
            " [0]\n",
            " [1]\n",
            " [0]\n",
            " [0]\n",
            " [0]\n",
            " [0]\n",
            " [0]\n",
            " [0]\n",
            " [0]\n",
            " [0]\n",
            " [0]\n",
            " [1]\n",
            " [0]\n",
            " [0]\n",
            " [0]\n",
            " [0]\n",
            " [1]\n",
            " [1]\n",
            " [0]\n",
            " [1]\n",
            " [0]\n",
            " [0]\n",
            " [1]\n",
            " [1]\n",
            " [0]\n",
            " [0]\n",
            " [1]\n",
            " [1]\n",
            " [0]\n",
            " [0]\n",
            " [0]\n",
            " [0]\n",
            " [1]\n",
            " [0]\n",
            " [0]\n",
            " [1]\n",
            " [1]\n",
            " [1]\n",
            " [0]\n",
            " [1]\n",
            " [0]\n",
            " [1]\n",
            " [0]\n",
            " [0]\n",
            " [0]\n",
            " [1]\n",
            " [0]\n",
            " [0]\n",
            " [1]\n",
            " [1]\n",
            " [0]\n",
            " [1]\n",
            " [1]\n",
            " [1]\n",
            " [1]\n",
            " [0]\n",
            " [1]\n",
            " [1]\n",
            " [1]\n",
            " [0]\n",
            " [1]\n",
            " [0]\n",
            " [1]\n",
            " [0]\n",
            " [0]\n",
            " [1]\n",
            " [0]\n",
            " [1]\n",
            " [1]\n",
            " [1]\n",
            " [1]\n",
            " [0]\n",
            " [0]\n",
            " [1]\n",
            " [1]\n",
            " [0]\n",
            " [0]\n",
            " [0]\n",
            " [1]\n",
            " [0]\n",
            " [0]\n",
            " [0]\n",
            " [0]\n",
            " [0]\n",
            " [1]\n",
            " [1]\n",
            " [0]\n",
            " [0]\n",
            " [1]\n",
            " [0]\n",
            " [0]\n",
            " [1]\n",
            " [1]\n",
            " [0]\n",
            " [1]\n",
            " [0]\n",
            " [0]\n",
            " [0]\n",
            " [0]\n",
            " [1]\n",
            " [0]\n",
            " [0]\n",
            " [0]\n",
            " [0]\n",
            " [0]\n",
            " [1]\n",
            " [0]\n",
            " [1]\n",
            " [1]\n",
            " [1]\n",
            " [1]\n",
            " [1]\n",
            " [1]\n",
            " [1]\n",
            " [1]\n",
            " [1]\n",
            " [1]\n",
            " [1]\n",
            " [1]\n",
            " [1]\n",
            " [1]\n",
            " [0]\n",
            " [0]\n",
            " [0]\n",
            " [0]\n",
            " [0]\n",
            " [0]\n",
            " [1]\n",
            " [0]\n",
            " [1]\n",
            " [0]\n",
            " [0]\n",
            " [1]\n",
            " [0]\n",
            " [0]\n",
            " [1]\n",
            " [0]\n",
            " [1]\n",
            " [1]\n",
            " [0]\n",
            " [0]\n",
            " [0]\n",
            " [0]\n",
            " [0]\n",
            " [0]\n",
            " [0]\n",
            " [0]\n",
            " [0]\n",
            " [0]\n",
            " [0]\n",
            " [0]\n",
            " [0]\n",
            " [1]\n",
            " [0]\n",
            " [0]\n",
            " [1]\n",
            " [0]\n",
            " [1]\n",
            " [0]\n",
            " [0]\n",
            " [0]\n",
            " [0]\n",
            " [0]\n",
            " [0]\n",
            " [0]\n",
            " [0]\n",
            " [0]\n",
            " [0]\n",
            " [0]\n",
            " [0]\n",
            " [0]\n",
            " [0]\n",
            " [1]\n",
            " [0]\n",
            " [0]\n",
            " [0]\n",
            " [1]\n",
            " [0]\n",
            " [1]\n",
            " [0]\n",
            " [0]\n",
            " [0]\n",
            " [0]\n",
            " [1]\n",
            " [1]\n",
            " [1]\n",
            " [0]\n",
            " [0]\n",
            " [0]\n",
            " [0]\n",
            " [1]\n",
            " [0]\n",
            " [1]\n",
            " [0]\n",
            " [1]\n",
            " [0]\n",
            " [0]\n",
            " [0]\n",
            " [1]\n",
            " [0]\n",
            " [0]\n",
            " [0]\n",
            " [0]\n",
            " [0]\n",
            " [0]\n",
            " [0]\n",
            " [1]\n",
            " [1]\n",
            " [1]\n",
            " [0]\n",
            " [0]\n",
            " [0]\n",
            " [0]\n",
            " [0]\n",
            " [0]\n",
            " [0]\n",
            " [0]\n",
            " [0]\n",
            " [0]\n",
            " [0]\n",
            " [1]\n",
            " [1]\n",
            " [0]\n",
            " [1]\n",
            " [1]\n",
            " [1]\n",
            " [0]\n",
            " [1]\n",
            " [1]\n",
            " [0]\n",
            " [0]\n",
            " [0]\n",
            " [0]\n",
            " [0]\n",
            " [1]\n",
            " [0]\n",
            " [0]\n",
            " [0]\n",
            " [0]\n",
            " [0]\n",
            " [1]\n",
            " [0]\n",
            " [0]\n",
            " [0]\n",
            " [1]\n",
            " [0]\n",
            " [0]\n",
            " [1]\n",
            " [1]\n",
            " [0]\n",
            " [0]\n",
            " [0]\n",
            " [0]\n",
            " [0]\n",
            " [0]\n",
            " [1]\n",
            " [0]\n",
            " [0]\n",
            " [0]\n",
            " [0]\n",
            " [0]\n",
            " [0]\n",
            " [0]\n",
            " [1]\n",
            " [0]\n",
            " [0]\n",
            " [0]\n",
            " [0]\n",
            " [0]\n",
            " [1]\n",
            " [0]\n",
            " [0]\n",
            " [1]\n",
            " [0]\n",
            " [0]\n",
            " [0]\n",
            " [0]\n",
            " [0]\n",
            " [0]\n",
            " [0]\n",
            " [0]\n",
            " [0]\n",
            " [0]\n",
            " [0]\n",
            " [0]\n",
            " [1]\n",
            " [0]\n",
            " [1]\n",
            " [1]\n",
            " [0]\n",
            " [1]\n",
            " [0]\n",
            " [0]\n",
            " [0]\n",
            " [0]\n",
            " [0]\n",
            " [1]\n",
            " [0]\n",
            " [0]\n",
            " [1]\n",
            " [0]\n",
            " [1]\n",
            " [0]\n",
            " [0]\n",
            " [1]\n",
            " [0]\n",
            " [1]\n",
            " [0]\n",
            " [0]\n",
            " [0]\n",
            " [0]\n",
            " [0]\n",
            " [0]\n",
            " [0]\n",
            " [0]\n",
            " [1]\n",
            " [1]\n",
            " [0]\n",
            " [0]\n",
            " [0]\n",
            " [0]\n",
            " [0]\n",
            " [0]\n",
            " [1]\n",
            " [0]\n",
            " [0]\n",
            " [0]\n",
            " [0]\n",
            " [0]\n",
            " [0]\n",
            " [0]\n",
            " [0]\n",
            " [0]\n",
            " [0]\n",
            " [1]\n",
            " [0]\n",
            " [0]\n",
            " [0]\n",
            " [0]\n",
            " [0]\n",
            " [0]\n",
            " [0]\n",
            " [1]\n",
            " [0]\n",
            " [1]\n",
            " [0]\n",
            " [0]\n",
            " [1]\n",
            " [0]\n",
            " [0]\n",
            " [0]\n",
            " [0]\n",
            " [0]\n",
            " [1]\n",
            " [1]\n",
            " [0]\n",
            " [1]\n",
            " [0]\n",
            " [1]\n",
            " [0]\n",
            " [0]\n",
            " [0]\n",
            " [0]\n",
            " [0]\n",
            " [1]\n",
            " [0]\n",
            " [0]\n",
            " [1]\n",
            " [0]\n",
            " [1]\n",
            " [0]\n",
            " [1]\n",
            " [1]\n",
            " [0]\n",
            " [0]\n",
            " [0]\n",
            " [1]\n",
            " [0]\n",
            " [0]\n",
            " [0]\n",
            " [0]\n",
            " [0]\n",
            " [0]\n",
            " [0]\n",
            " [0]\n",
            " [0]\n",
            " [0]\n",
            " [0]\n",
            " [1]\n",
            " [0]\n",
            " [1]\n",
            " [1]\n",
            " [0]\n",
            " [0]\n",
            " [0]\n",
            " [0]\n",
            " [0]\n",
            " [0]\n",
            " [0]\n",
            " [0]\n",
            " [0]\n",
            " [0]\n",
            " [0]\n",
            " [0]\n",
            " [0]\n",
            " [0]\n",
            " [0]\n",
            " [0]\n",
            " [0]\n",
            " [0]\n",
            " [0]\n",
            " [0]\n",
            " [0]\n",
            " [0]\n",
            " [0]\n",
            " [0]\n",
            " [0]\n",
            " [1]\n",
            " [1]\n",
            " [1]\n",
            " [1]\n",
            " [1]\n",
            " [1]\n",
            " [0]]\n"
          ],
          "name": "stdout"
        }
      ]
    },
    {
      "cell_type": "code",
      "metadata": {
        "colab": {
          "base_uri": "https://localhost:8080/"
        },
        "id": "y5vIwRPHsRoB",
        "outputId": "3d614626-b82e-4d4c-bd06-d43428f3984e"
      },
      "source": [
        "(trainX, testX, trainY, testY) = train_test_split(X,\tnp.array(labels), test_size=0.3)\n",
        "print(trainX.shape)\n",
        "print(testX.shape)\n",
        "print(trainY.shape)\n",
        "print(testY.shape)"
      ],
      "execution_count": 109,
      "outputs": [
        {
          "output_type": "stream",
          "text": [
            "(398, 29)\n",
            "(171, 29)\n",
            "(398, 1)\n",
            "(171, 1)\n"
          ],
          "name": "stdout"
        }
      ]
    },
    {
      "cell_type": "code",
      "metadata": {
        "id": "YzWmqSl0sYDR"
      },
      "source": [
        "model = Sequential(\n",
        "    [\n",
        "        Dense(64, activation=\"relu\", input_shape=(29,)), #hidden layer 1\n",
        "        Dense(32, activation=\"relu\"), #hidden layer 2\n",
        "        Dense(16, activation=\"relu\"), #hidden layer 3\n",
        "        Dense(8, activation=\"relu\"), #hidden layer 4\n",
        "        Dense(1, activation = \"sigmoid\"),\n",
        "    ]\n",
        ")"
      ],
      "execution_count": 110,
      "outputs": []
    },
    {
      "cell_type": "code",
      "metadata": {
        "colab": {
          "base_uri": "https://localhost:8080/"
        },
        "id": "taSTfQbvscl2",
        "outputId": "e2cae01e-c162-491c-d4f2-79ceaed358a3"
      },
      "source": [
        "model.summary()"
      ],
      "execution_count": 111,
      "outputs": [
        {
          "output_type": "stream",
          "text": [
            "Model: \"sequential_3\"\n",
            "_________________________________________________________________\n",
            "Layer (type)                 Output Shape              Param #   \n",
            "=================================================================\n",
            "dense_15 (Dense)             (None, 64)                1920      \n",
            "_________________________________________________________________\n",
            "dense_16 (Dense)             (None, 32)                2080      \n",
            "_________________________________________________________________\n",
            "dense_17 (Dense)             (None, 16)                528       \n",
            "_________________________________________________________________\n",
            "dense_18 (Dense)             (None, 8)                 136       \n",
            "_________________________________________________________________\n",
            "dense_19 (Dense)             (None, 1)                 9         \n",
            "=================================================================\n",
            "Total params: 4,673\n",
            "Trainable params: 4,673\n",
            "Non-trainable params: 0\n",
            "_________________________________________________________________\n"
          ],
          "name": "stdout"
        }
      ]
    },
    {
      "cell_type": "code",
      "metadata": {
        "colab": {
          "base_uri": "https://localhost:8080/"
        },
        "id": "Eplt-FWuRn5n",
        "outputId": "172176a2-fd38-418b-fd71-f2069e031473"
      },
      "source": [
        "print(\"[INFO] training network...\")\n",
        "opt = Adam(lr=1e-3, decay=1e-3 / 50)\n",
        "model.compile(loss=\"binary_crossentropy\", optimizer=opt, #2 kelas --> binary_crossentropy\n",
        "\tmetrics=[\"accuracy\"])\n",
        "H = model.fit(trainX, trainY, validation_data=(testX, testY), epochs=20, batch_size=20)"
      ],
      "execution_count": 112,
      "outputs": [
        {
          "output_type": "stream",
          "text": [
            "[INFO] training network...\n",
            "Epoch 1/20\n",
            "20/20 [==============================] - 1s 13ms/step - loss: 22.9340 - accuracy: 0.3598 - val_loss: 3.5543 - val_accuracy: 0.3450\n",
            "Epoch 2/20\n",
            "20/20 [==============================] - 0s 4ms/step - loss: 2.7845 - accuracy: 0.3977 - val_loss: 0.8687 - val_accuracy: 0.3450\n",
            "Epoch 3/20\n",
            "20/20 [==============================] - 0s 4ms/step - loss: 0.7000 - accuracy: 0.5577 - val_loss: 0.3805 - val_accuracy: 0.9240\n",
            "Epoch 4/20\n",
            "20/20 [==============================] - 0s 4ms/step - loss: 0.3750 - accuracy: 0.8723 - val_loss: 0.2967 - val_accuracy: 0.9474\n",
            "Epoch 5/20\n",
            "20/20 [==============================] - 0s 4ms/step - loss: 0.3280 - accuracy: 0.8976 - val_loss: 0.2518 - val_accuracy: 0.9181\n",
            "Epoch 6/20\n",
            "20/20 [==============================] - 0s 4ms/step - loss: 0.2533 - accuracy: 0.9137 - val_loss: 0.2658 - val_accuracy: 0.9298\n",
            "Epoch 7/20\n",
            "20/20 [==============================] - 0s 5ms/step - loss: 0.2705 - accuracy: 0.9192 - val_loss: 0.2335 - val_accuracy: 0.9181\n",
            "Epoch 8/20\n",
            "20/20 [==============================] - 0s 4ms/step - loss: 0.3201 - accuracy: 0.8874 - val_loss: 0.2226 - val_accuracy: 0.9298\n",
            "Epoch 9/20\n",
            "20/20 [==============================] - 0s 4ms/step - loss: 0.2833 - accuracy: 0.9021 - val_loss: 0.2400 - val_accuracy: 0.9298\n",
            "Epoch 10/20\n",
            "20/20 [==============================] - 0s 4ms/step - loss: 0.2846 - accuracy: 0.9008 - val_loss: 0.2211 - val_accuracy: 0.9415\n",
            "Epoch 11/20\n",
            "20/20 [==============================] - 0s 4ms/step - loss: 0.2805 - accuracy: 0.8858 - val_loss: 0.3135 - val_accuracy: 0.8830\n",
            "Epoch 12/20\n",
            "20/20 [==============================] - 0s 4ms/step - loss: 0.2655 - accuracy: 0.8930 - val_loss: 0.2315 - val_accuracy: 0.9123\n",
            "Epoch 13/20\n",
            "20/20 [==============================] - 0s 4ms/step - loss: 0.2325 - accuracy: 0.9162 - val_loss: 0.1957 - val_accuracy: 0.9298\n",
            "Epoch 14/20\n",
            "20/20 [==============================] - 0s 5ms/step - loss: 0.2071 - accuracy: 0.9270 - val_loss: 0.1944 - val_accuracy: 0.9357\n",
            "Epoch 15/20\n",
            "20/20 [==============================] - 0s 4ms/step - loss: 0.2183 - accuracy: 0.9302 - val_loss: 0.1909 - val_accuracy: 0.9298\n",
            "Epoch 16/20\n",
            "20/20 [==============================] - 0s 4ms/step - loss: 0.2216 - accuracy: 0.9078 - val_loss: 0.2152 - val_accuracy: 0.9240\n",
            "Epoch 17/20\n",
            "20/20 [==============================] - 0s 4ms/step - loss: 0.2432 - accuracy: 0.9124 - val_loss: 0.2525 - val_accuracy: 0.9123\n",
            "Epoch 18/20\n",
            "20/20 [==============================] - 0s 4ms/step - loss: 0.2477 - accuracy: 0.8981 - val_loss: 0.2482 - val_accuracy: 0.9123\n",
            "Epoch 19/20\n",
            "20/20 [==============================] - 0s 4ms/step - loss: 0.2217 - accuracy: 0.9084 - val_loss: 0.1909 - val_accuracy: 0.9298\n",
            "Epoch 20/20\n",
            "20/20 [==============================] - 0s 5ms/step - loss: 0.2060 - accuracy: 0.9348 - val_loss: 0.1799 - val_accuracy: 0.9298\n"
          ],
          "name": "stdout"
        }
      ]
    },
    {
      "cell_type": "code",
      "metadata": {
        "colab": {
          "base_uri": "https://localhost:8080/",
          "height": 590
        },
        "id": "jXNN_5HySODW",
        "outputId": "6e0a907c-1ff4-49e4-95c1-aea6b02a3090"
      },
      "source": [
        "import matplotlib.pyplot as plt\n",
        "\n",
        "print(H.history.keys())\n",
        "# summarize history for accuracy\n",
        "plt.plot(H.history['accuracy'])\n",
        "plt.plot(H.history['val_accuracy'])\n",
        "plt.title('model accuracy')\n",
        "plt.ylabel('accuracy')\n",
        "plt.xlabel('epoch')\n",
        "plt.legend(['train', 'test'], loc='upper left')\n",
        "plt.show()\n",
        "# summarize history for loss\n",
        "plt.plot(H.history['loss'])\n",
        "plt.plot(H.history['val_loss'])\n",
        "plt.title('model loss')\n",
        "plt.ylabel('loss')\n",
        "plt.xlabel('epoch')\n",
        "plt.legend(['train', 'test'], loc='upper left')\n",
        "plt.show()"
      ],
      "execution_count": 113,
      "outputs": [
        {
          "output_type": "stream",
          "text": [
            "dict_keys(['loss', 'accuracy', 'val_loss', 'val_accuracy'])\n"
          ],
          "name": "stdout"
        },
        {
          "output_type": "display_data",
          "data": {
            "image/png": "[encoded data removed]",
            "text/plain": [
              "<Figure size 432x288 with 1 Axes>"
            ]
          },
          "metadata": {
            "tags": [],
            "needs_background": "light"
          }
        },
        {
          "output_type": "display_data",
          "data": {
            "image/png": "[encoded data removed]",
            "text/plain": [
              "<Figure size 432x288 with 1 Axes>"
            ]
          },
          "metadata": {
            "tags": [],
            "needs_background": "light"
          }
        }
      ]
    }
  ]
}