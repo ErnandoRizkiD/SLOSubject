{
  "nbformat": 4,
  "nbformat_minor": 0,
  "metadata": {
    "colab": {
      "name": "Ernando Rizki D-2101202071-UTS.ipynb",
      "provenance": [],
      "collapsed_sections": [],
      "mount_file_id": "1hP7PjNUYM1F6nb74-VY4i7ka8R5ZB487",
      "authorship_tag": "ABX9TyPik80a9glwx4HK0/Imtr1y",
      "include_colab_link": true
    },
    "kernelspec": {
      "name": "python3",
      "display_name": "Python 3"
    },
    "language_info": {
      "name": "python"
    },
    "accelerator": "GPU"
  },
  "cells": [
    {
      "cell_type": "markdown",
      "metadata": {
        "id": "view-in-github",
        "colab_type": "text"
      },
      "source": [
        "<a href=\"https://colab.research.google.com/github/ErnandoRizkiD/TugasSLO/blob/main/Ernando_Rizki_D_2101202071_UTS.ipynb\" target=\"_parent\"><img src=\"https://colab.research.google.com/assets/colab-badge.svg\" alt=\"Open In Colab\"/></a>"
      ]
    },
    {
      "cell_type": "code",
      "metadata": {
        "colab": {
          "base_uri": "https://localhost:8080/"
        },
        "id": "zzXHPW7pttBt",
        "outputId": "c426c095-22e6-4849-ab67-a7f47c5736ed"
      },
      "source": [
        "cd /content/drive/MyDrive/Colab Notebooks"
      ],
      "execution_count": 71,
      "outputs": [
        {
          "output_type": "stream",
          "text": [
            "/content/drive/MyDrive/Colab Notebooks\n"
          ],
          "name": "stdout"
        }
      ]
    },
    {
      "cell_type": "code",
      "metadata": {
        "id": "A1sPHMq3t3ZM",
        "colab": {
          "base_uri": "https://localhost:8080/"
        },
        "outputId": "6b04a1d9-55e5-4dd4-f5b7-ccdaede5b841"
      },
      "source": [
        "ls"
      ],
      "execution_count": 72,
      "outputs": [
        {
          "output_type": "stream",
          "text": [
            " \u001b[0m\u001b[01;36m3scene\u001b[0m@                        'TugasSLO_2201202071_Ernando Rizki D.ipynb'\n",
            " classify_iris_ANN.ipynb         Untitled0.ipynb\n",
            "'Salinan dari Untitled1.ipynb'   UTS.ipynb\n"
          ],
          "name": "stdout"
        }
      ]
    },
    {
      "cell_type": "code",
      "metadata": {
        "id": "j1HJCE5Nvz-h"
      },
      "source": [
        "# import the necessary packages\n",
        "from keras.models import Sequential\n",
        "from keras.layers.core import Activation\n",
        "from keras.layers.core import Flatten\n",
        "from keras.layers.core import Dense\n",
        "from keras.optimizers import Adam\n",
        "from sklearn.preprocessing import LabelBinarizer\n",
        "from sklearn.model_selection import train_test_split\n",
        "from sklearn.metrics import classification_report\n",
        "from PIL import Image, ImageFilter\n",
        "from imutils import paths\n",
        "import numpy as np\n",
        "import os"
      ],
      "execution_count": 73,
      "outputs": []
    },
    {
      "cell_type": "code",
      "metadata": {
        "colab": {
          "base_uri": "https://localhost:8080/"
        },
        "id": "I0xHtywxv29L",
        "outputId": "500bf85c-6d76-401c-b169-19409b6f1330"
      },
      "source": [
        "print(\"[INFO] loading images...\")\n",
        "imagePaths = paths.list_images(\"3scene\")\n",
        "data = []\n",
        "labels = []"
      ],
      "execution_count": 148,
      "outputs": [
        {
          "output_type": "stream",
          "text": [
            "[INFO] loading images...\n"
          ],
          "name": "stdout"
        }
      ]
    },
    {
      "cell_type": "code",
      "metadata": {
        "id": "euPIxwoNv8nQ"
      },
      "source": [
        "for imagePath in imagePaths:\n",
        "\timage = Image.open(imagePath)\n",
        "\timage = np.array(image.resize((32,32))) / 255.0 #normalisasi\n",
        "\tdata.append(image)\n",
        "\tlabel = imagePath.split(os.path.sep)[-2]\n",
        "\tlabels.append(label)"
      ],
      "execution_count": 149,
      "outputs": []
    },
    {
      "cell_type": "code",
      "metadata": {
        "colab": {
          "base_uri": "https://localhost:8080/"
        },
        "id": "g8qVe_0jwBrn",
        "outputId": "dd352167-e9af-40df-a5c8-5926a7039bcc"
      },
      "source": [
        "print(labels)"
      ],
      "execution_count": 118,
      "outputs": [
        {
          "output_type": "stream",
          "text": [
            "['forest', 'forest', 'forest', 'forest', 'forest', 'forest', 'forest', 'forest', 'forest', 'forest', 'forest', 'forest', 'forest', 'forest', 'forest', 'forest', 'forest', 'forest', 'forest', 'forest', 'forest', 'forest', 'forest', 'forest', 'forest', 'forest', 'forest', 'forest', 'forest', 'forest', 'forest', 'forest', 'forest', 'forest', 'forest', 'forest', 'forest', 'forest', 'forest', 'forest', 'forest', 'forest', 'forest', 'forest', 'forest', 'forest', 'forest', 'forest', 'forest', 'forest', 'forest', 'forest', 'forest', 'forest', 'forest', 'forest', 'forest', 'forest', 'forest', 'forest', 'forest', 'forest', 'forest', 'forest', 'forest', 'forest', 'forest', 'forest', 'forest', 'forest', 'forest', 'forest', 'forest', 'forest', 'forest', 'forest', 'forest', 'forest', 'forest', 'forest', 'forest', 'forest', 'forest', 'forest', 'forest', 'forest', 'forest', 'forest', 'forest', 'forest', 'forest', 'forest', 'forest', 'forest', 'forest', 'forest', 'forest', 'forest', 'forest', 'forest', 'forest', 'forest', 'forest', 'forest', 'forest', 'forest', 'forest', 'forest', 'forest', 'forest', 'forest', 'forest', 'forest', 'forest', 'forest', 'forest', 'forest', 'forest', 'forest', 'forest', 'forest', 'forest', 'forest', 'forest', 'forest', 'forest', 'forest', 'forest', 'forest', 'forest', 'forest', 'forest', 'forest', 'forest', 'forest', 'forest', 'forest', 'forest', 'forest', 'forest', 'forest', 'forest', 'forest', 'forest', 'forest', 'forest', 'forest', 'forest', 'forest', 'forest', 'forest', 'forest', 'forest', 'forest', 'forest', 'forest', 'forest', 'forest', 'forest', 'forest', 'forest', 'forest', 'forest', 'forest', 'forest', 'forest', 'forest', 'forest', 'forest', 'forest', 'forest', 'forest', 'forest', 'forest', 'forest', 'forest', 'forest', 'forest', 'forest', 'forest', 'forest', 'forest', 'forest', 'forest', 'forest', 'forest', 'forest', 'forest', 'forest', 'forest', 'forest', 'forest', 'forest', 'forest', 'forest', 'forest', 'forest', 'forest', 'forest', 'forest', 'forest', 'forest', 'forest', 'forest', 'forest', 'forest', 'forest', 'forest', 'forest', 'forest', 'forest', 'forest', 'forest', 'forest', 'forest', 'forest', 'forest', 'forest', 'forest', 'forest', 'forest', 'forest', 'forest', 'forest', 'forest', 'forest', 'forest', 'forest', 'forest', 'forest', 'forest', 'forest', 'forest', 'forest', 'forest', 'forest', 'forest', 'forest', 'forest', 'forest', 'forest', 'forest', 'forest', 'forest', 'forest', 'forest', 'forest', 'forest', 'forest', 'forest', 'forest', 'forest', 'forest', 'forest', 'forest', 'forest', 'forest', 'forest', 'forest', 'forest', 'forest', 'forest', 'forest', 'forest', 'forest', 'forest', 'forest', 'forest', 'forest', 'forest', 'forest', 'forest', 'forest', 'forest', 'forest', 'forest', 'forest', 'forest', 'forest', 'forest', 'forest', 'forest', 'forest', 'forest', 'forest', 'forest', 'forest', 'forest', 'forest', 'forest', 'forest', 'forest', 'forest', 'forest', 'forest', 'forest', 'forest', 'forest', 'forest', 'forest', 'forest', 'forest', 'forest', 'forest', 'forest', 'forest', 'forest', 'forest', 'forest', 'forest', 'forest', 'forest', 'forest', 'forest', 'forest', 'forest', 'forest', 'forest', 'forest', 'forest', 'forest', 'forest', 'forest', 'forest', 'forest', 'forest', 'forest', 'forest', 'highway', 'highway', 'highway', 'highway', 'highway', 'highway', 'highway', 'highway', 'highway', 'highway', 'highway', 'highway', 'highway', 'highway', 'highway', 'highway', 'highway', 'highway', 'highway', 'highway', 'highway', 'highway', 'highway', 'highway', 'highway', 'highway', 'highway', 'highway', 'highway', 'highway', 'highway', 'highway', 'highway', 'highway', 'highway', 'highway', 'highway', 'highway', 'highway', 'highway', 'highway', 'highway', 'highway', 'highway', 'highway', 'highway', 'highway', 'highway', 'highway', 'highway', 'highway', 'highway', 'highway', 'highway', 'highway', 'highway', 'highway', 'highway', 'highway', 'highway', 'highway', 'highway', 'highway', 'highway', 'highway', 'highway', 'highway', 'highway', 'highway', 'highway', 'highway', 'highway', 'highway', 'highway', 'highway', 'highway', 'highway', 'highway', 'highway', 'highway', 'highway', 'highway', 'highway', 'highway', 'highway', 'highway', 'highway', 'highway', 'highway', 'highway', 'highway', 'highway', 'highway', 'highway', 'highway', 'highway', 'highway', 'highway', 'highway', 'highway', 'highway', 'highway', 'highway', 'highway', 'highway', 'highway', 'highway', 'highway', 'highway', 'highway', 'highway', 'highway', 'highway', 'highway', 'highway', 'highway', 'highway', 'highway', 'highway', 'highway', 'highway', 'highway', 'highway', 'highway', 'highway', 'highway', 'highway', 'highway', 'highway', 'highway', 'highway', 'highway', 'highway', 'highway', 'highway', 'highway', 'highway', 'highway', 'highway', 'highway', 'highway', 'highway', 'highway', 'highway', 'highway', 'highway', 'highway', 'highway', 'highway', 'highway', 'highway', 'highway', 'highway', 'highway', 'highway', 'highway', 'highway', 'highway', 'highway', 'highway', 'highway', 'highway', 'highway', 'highway', 'highway', 'highway', 'highway', 'highway', 'highway', 'highway', 'highway', 'highway', 'highway', 'highway', 'highway', 'highway', 'highway', 'highway', 'highway', 'highway', 'highway', 'highway', 'highway', 'highway', 'highway', 'highway', 'highway', 'highway', 'highway', 'highway', 'highway', 'highway', 'highway', 'highway', 'highway', 'highway', 'highway', 'highway', 'highway', 'highway', 'highway', 'highway', 'highway', 'highway', 'highway', 'highway', 'highway', 'highway', 'highway', 'highway', 'highway', 'highway', 'highway', 'highway', 'highway', 'highway', 'highway', 'highway', 'highway', 'highway', 'highway', 'highway', 'highway', 'highway', 'highway', 'highway', 'highway', 'highway', 'highway', 'highway', 'highway', 'highway', 'highway', 'highway', 'highway', 'highway', 'highway', 'highway', 'highway', 'highway', 'highway', 'highway', 'highway', 'highway', 'highway', 'highway', 'highway', 'highway', 'highway', 'highway', 'highway', 'highway', 'highway', 'highway', 'highway', 'highway', 'highway', 'highway', 'highway', 'highway', 'coast', 'coast', 'coast', 'coast', 'coast', 'coast', 'coast', 'coast', 'coast', 'coast', 'coast', 'coast', 'coast', 'coast', 'coast', 'coast', 'coast', 'coast', 'coast', 'coast', 'coast', 'coast', 'coast', 'coast', 'coast', 'coast', 'coast', 'coast', 'coast', 'coast', 'coast', 'coast', 'coast', 'coast', 'coast', 'coast', 'coast', 'coast', 'coast', 'coast', 'coast', 'coast', 'coast', 'coast', 'coast', 'coast', 'coast', 'coast', 'coast', 'coast', 'coast', 'coast', 'coast', 'coast', 'coast', 'coast', 'coast', 'coast', 'coast', 'coast', 'coast', 'coast', 'coast', 'coast', 'coast', 'coast', 'coast', 'coast', 'coast', 'coast', 'coast', 'coast', 'coast', 'coast', 'coast', 'coast', 'coast', 'coast', 'coast', 'coast', 'coast', 'coast', 'coast', 'coast', 'coast', 'coast', 'coast', 'coast', 'coast', 'coast', 'coast', 'coast', 'coast', 'coast', 'coast', 'coast', 'coast', 'coast', 'coast', 'coast', 'coast', 'coast', 'coast', 'coast', 'coast', 'coast', 'coast', 'coast', 'coast', 'coast', 'coast', 'coast', 'coast', 'coast', 'coast', 'coast', 'coast', 'coast', 'coast', 'coast', 'coast', 'coast', 'coast', 'coast', 'coast', 'coast', 'coast', 'coast', 'coast', 'coast', 'coast', 'coast', 'coast', 'coast', 'coast', 'coast', 'coast', 'coast', 'coast', 'coast', 'coast', 'coast', 'coast', 'coast', 'coast', 'coast', 'coast', 'coast', 'coast', 'coast', 'coast', 'coast', 'coast', 'coast', 'coast', 'coast', 'coast', 'coast', 'coast', 'coast', 'coast', 'coast', 'coast', 'coast', 'coast', 'coast', 'coast', 'coast', 'coast', 'coast', 'coast', 'coast', 'coast', 'coast', 'coast', 'coast', 'coast', 'coast', 'coast', 'coast', 'coast', 'coast', 'coast', 'coast', 'coast', 'coast', 'coast', 'coast', 'coast', 'coast', 'coast', 'coast', 'coast', 'coast', 'coast', 'coast', 'coast', 'coast', 'coast', 'coast', 'coast', 'coast', 'coast', 'coast', 'coast', 'coast', 'coast', 'coast', 'coast', 'coast', 'coast', 'coast', 'coast', 'coast', 'coast', 'coast', 'coast', 'coast', 'coast', 'coast', 'coast', 'coast', 'coast', 'coast', 'coast', 'coast', 'coast', 'coast', 'coast', 'coast', 'coast', 'coast', 'coast', 'coast', 'coast', 'coast', 'coast', 'coast', 'coast', 'coast', 'coast', 'coast', 'coast', 'coast', 'coast', 'coast', 'coast', 'coast', 'coast', 'coast', 'coast', 'coast', 'coast', 'coast', 'coast', 'coast', 'coast', 'coast', 'coast', 'coast', 'coast', 'coast', 'coast', 'coast', 'coast', 'coast', 'coast', 'coast', 'coast', 'coast', 'coast', 'coast', 'coast', 'coast', 'coast', 'coast', 'coast', 'coast', 'coast', 'coast', 'coast', 'coast', 'coast', 'coast', 'coast', 'coast', 'coast', 'coast', 'coast', 'coast', 'coast', 'coast', 'coast', 'coast', 'coast', 'coast', 'coast', 'coast', 'coast', 'coast', 'coast', 'coast', 'coast', 'coast', 'coast', 'coast', 'coast', 'coast', 'coast', 'coast', 'coast', 'coast', 'coast', 'coast', 'coast', 'coast', 'coast', 'coast', 'coast', 'coast', 'coast', 'coast', 'coast', 'coast', 'coast', 'coast', 'coast', 'coast', 'coast', 'coast', 'coast', 'coast', 'coast', 'coast', 'coast', 'coast', 'coast', 'coast', 'coast', 'coast', 'coast', 'coast', 'coast', 'coast', 'coast', 'coast', 'coast', 'coast', 'coast', 'coast', 'coast', 'coast', 'coast', 'coast', 'coast', 'coast', 'coast', 'coast', 'coast', 'coast']\n"
          ],
          "name": "stdout"
        }
      ]
    },
    {
      "cell_type": "code",
      "metadata": {
        "id": "f9mCm0coxUv1"
      },
      "source": [
        "# encode the labels, converting them from strings to integers\n",
        "lb = LabelBinarizer()\n",
        "labels = lb.fit_transform(labels)"
      ],
      "execution_count": 150,
      "outputs": []
    },
    {
      "cell_type": "code",
      "metadata": {
        "colab": {
          "base_uri": "https://localhost:8080/"
        },
        "id": "VpaQHnvDxX_i",
        "outputId": "52fe9d72-db19-4d6a-8ccf-0450af488f26"
      },
      "source": [
        "print (labels)"
      ],
      "execution_count": 78,
      "outputs": [
        {
          "output_type": "stream",
          "text": [
            "[[0 1 0]\n",
            " [0 1 0]\n",
            " [0 1 0]\n",
            " ...\n",
            " [1 0 0]\n",
            " [1 0 0]\n",
            " [1 0 0]]\n"
          ],
          "name": "stdout"
        }
      ]
    },
    {
      "cell_type": "code",
      "metadata": {
        "colab": {
          "base_uri": "https://localhost:8080/"
        },
        "id": "gLpJ1MoRxfeJ",
        "outputId": "99065a06-1e35-4584-d948-bf9132949112"
      },
      "source": [
        "print(np.array(data).shape)"
      ],
      "execution_count": 151,
      "outputs": [
        {
          "output_type": "stream",
          "text": [
            "(948, 32, 32, 3)\n"
          ],
          "name": "stdout"
        }
      ]
    },
    {
      "cell_type": "code",
      "metadata": {
        "colab": {
          "base_uri": "https://localhost:8080/"
        },
        "id": "40ry6Ik1xmrm",
        "outputId": "c8d35916-24d6-4b6b-c172-2f4676eaf6bb"
      },
      "source": [
        "(trainX, testX, trainY, testY) = train_test_split(np.array(data),\tnp.array(labels), test_size=0.18)\n",
        "print(trainX.shape)\n",
        "print(testX.shape)"
      ],
      "execution_count": 152,
      "outputs": [
        {
          "output_type": "stream",
          "text": [
            "(777, 32, 32, 3)\n",
            "(171, 32, 32, 3)\n"
          ],
          "name": "stdout"
        }
      ]
    },
    {
      "cell_type": "code",
      "metadata": {
        "id": "B2-jiHZHxoEg"
      },
      "source": [
        "from keras.models import Sequential\n",
        "from keras.layers.core import Flatten\n",
        "from keras.layers.core import Dense, Dropout\n",
        "\n",
        "model = Sequential(\n",
        "    [\n",
        "        Flatten(input_shape=(32*32*3,)),\n",
        "     Dense(512, activation=\"relu\"),\n",
        "        Dense(256, activation=\"relu\"),\n",
        "        Dropout(0.3),\n",
        "        Dense(128, activation=\"relu\"),\n",
        "        Dense(64, activation=\"relu\"),\n",
        "        Dropout(0.3),\n",
        "        Dense(32, activation=\"relu\"),\n",
        "        Dense(16, activation=\"relu\"),\n",
        "        Dense(3, activation = \"softmax\"),\n",
        "    ]\n",
        ")"
      ],
      "execution_count": 153,
      "outputs": []
    },
    {
      "cell_type": "code",
      "metadata": {
        "colab": {
          "base_uri": "https://localhost:8080/"
        },
        "id": "oaFMdcbXx1fu",
        "outputId": "1a61f8ef-b6d0-4f7c-8f4f-ae4f6d1d2f4c"
      },
      "source": [
        "model.summary()"
      ],
      "execution_count": 154,
      "outputs": [
        {
          "output_type": "stream",
          "text": [
            "Model: \"sequential_15\"\n",
            "_________________________________________________________________\n",
            "Layer (type)                 Output Shape              Param #   \n",
            "=================================================================\n",
            "flatten_15 (Flatten)         (None, 3072)              0         \n",
            "_________________________________________________________________\n",
            "dense_105 (Dense)            (None, 512)               1573376   \n",
            "_________________________________________________________________\n",
            "dense_106 (Dense)            (None, 256)               131328    \n",
            "_________________________________________________________________\n",
            "dropout_30 (Dropout)         (None, 256)               0         \n",
            "_________________________________________________________________\n",
            "dense_107 (Dense)            (None, 128)               32896     \n",
            "_________________________________________________________________\n",
            "dense_108 (Dense)            (None, 64)                8256      \n",
            "_________________________________________________________________\n",
            "dropout_31 (Dropout)         (None, 64)                0         \n",
            "_________________________________________________________________\n",
            "dense_109 (Dense)            (None, 32)                2080      \n",
            "_________________________________________________________________\n",
            "dense_110 (Dense)            (None, 16)                528       \n",
            "_________________________________________________________________\n",
            "dense_111 (Dense)            (None, 3)                 51        \n",
            "=================================================================\n",
            "Total params: 1,748,515\n",
            "Trainable params: 1,748,515\n",
            "Non-trainable params: 0\n",
            "_________________________________________________________________\n"
          ],
          "name": "stdout"
        }
      ]
    },
    {
      "cell_type": "code",
      "metadata": {
        "colab": {
          "base_uri": "https://localhost:8080/"
        },
        "id": "kNNU2qHxx4Hl",
        "outputId": "a7cf6c4b-0fe8-4f8a-a653-700e660ac15b"
      },
      "source": [
        "print(\"[INFO] training network...\")\n",
        "opt = Adam(lr=1e-3, decay=1e-3)\n",
        "model.compile(loss=\"categorical_crossentropy\", optimizer=opt,\n",
        "\tmetrics=[\"accuracy\"])\n",
        "H = model.fit(trainX, trainY, validation_data=(testX, testY), epochs=50, batch_size=32)"
      ],
      "execution_count": 155,
      "outputs": [
        {
          "output_type": "stream",
          "text": [
            "[INFO] training network...\n",
            "Epoch 1/50\n",
            "WARNING:tensorflow:Model was constructed with shape (None, 3072) for input KerasTensor(type_spec=TensorSpec(shape=(None, 3072), dtype=tf.float32, name='flatten_15_input'), name='flatten_15_input', description=\"created by layer 'flatten_15_input'\"), but it was called on an input with incompatible shape (None, 32, 32, 3).\n",
            "WARNING:tensorflow:Model was constructed with shape (None, 3072) for input KerasTensor(type_spec=TensorSpec(shape=(None, 3072), dtype=tf.float32, name='flatten_15_input'), name='flatten_15_input', description=\"created by layer 'flatten_15_input'\"), but it was called on an input with incompatible shape (None, 32, 32, 3).\n",
            "23/25 [==========================>...] - ETA: 0s - loss: 1.2160 - accuracy: 0.3205WARNING:tensorflow:Model was constructed with shape (None, 3072) for input KerasTensor(type_spec=TensorSpec(shape=(None, 3072), dtype=tf.float32, name='flatten_15_input'), name='flatten_15_input', description=\"created by layer 'flatten_15_input'\"), but it was called on an input with incompatible shape (None, 32, 32, 3).\n",
            "25/25 [==============================] - 1s 16ms/step - loss: 1.2131 - accuracy: 0.3231 - val_loss: 1.0928 - val_accuracy: 0.3450\n",
            "Epoch 2/50\n",
            "25/25 [==============================] - 0s 7ms/step - loss: 1.1093 - accuracy: 0.3613 - val_loss: 1.0950 - val_accuracy: 0.3450\n",
            "Epoch 3/50\n",
            "25/25 [==============================] - 0s 7ms/step - loss: 1.0906 - accuracy: 0.3569 - val_loss: 1.0297 - val_accuracy: 0.3918\n",
            "Epoch 4/50\n",
            "25/25 [==============================] - 0s 7ms/step - loss: 1.0534 - accuracy: 0.4558 - val_loss: 0.9007 - val_accuracy: 0.6374\n",
            "Epoch 5/50\n",
            "25/25 [==============================] - 0s 8ms/step - loss: 1.0154 - accuracy: 0.5204 - val_loss: 0.8403 - val_accuracy: 0.6433\n",
            "Epoch 6/50\n",
            "25/25 [==============================] - 0s 8ms/step - loss: 0.9026 - accuracy: 0.5516 - val_loss: 0.7850 - val_accuracy: 0.6725\n",
            "Epoch 7/50\n",
            "25/25 [==============================] - 0s 7ms/step - loss: 0.8839 - accuracy: 0.5600 - val_loss: 0.7363 - val_accuracy: 0.6959\n",
            "Epoch 8/50\n",
            "25/25 [==============================] - 0s 7ms/step - loss: 0.8527 - accuracy: 0.5880 - val_loss: 0.7919 - val_accuracy: 0.5906\n",
            "Epoch 9/50\n",
            "25/25 [==============================] - 0s 7ms/step - loss: 0.7997 - accuracy: 0.6561 - val_loss: 0.7504 - val_accuracy: 0.6901\n",
            "Epoch 10/50\n",
            "25/25 [==============================] - 0s 7ms/step - loss: 0.7257 - accuracy: 0.7068 - val_loss: 0.6666 - val_accuracy: 0.6959\n",
            "Epoch 11/50\n",
            "25/25 [==============================] - 0s 7ms/step - loss: 0.6639 - accuracy: 0.7485 - val_loss: 0.5754 - val_accuracy: 0.7778\n",
            "Epoch 12/50\n",
            "25/25 [==============================] - 0s 8ms/step - loss: 0.6001 - accuracy: 0.7649 - val_loss: 0.7245 - val_accuracy: 0.6842\n",
            "Epoch 13/50\n",
            "25/25 [==============================] - 0s 7ms/step - loss: 0.6167 - accuracy: 0.7453 - val_loss: 0.5700 - val_accuracy: 0.7661\n",
            "Epoch 14/50\n",
            "25/25 [==============================] - 0s 7ms/step - loss: 0.4904 - accuracy: 0.8185 - val_loss: 0.5980 - val_accuracy: 0.7193\n",
            "Epoch 15/50\n",
            "25/25 [==============================] - 0s 7ms/step - loss: 0.5483 - accuracy: 0.7736 - val_loss: 0.5717 - val_accuracy: 0.7719\n",
            "Epoch 16/50\n",
            "25/25 [==============================] - 0s 7ms/step - loss: 0.5021 - accuracy: 0.8151 - val_loss: 0.5580 - val_accuracy: 0.7661\n",
            "Epoch 17/50\n",
            "25/25 [==============================] - 0s 8ms/step - loss: 0.6106 - accuracy: 0.7570 - val_loss: 0.5616 - val_accuracy: 0.7661\n",
            "Epoch 18/50\n",
            "25/25 [==============================] - 0s 7ms/step - loss: 0.4654 - accuracy: 0.8271 - val_loss: 0.5563 - val_accuracy: 0.7602\n",
            "Epoch 19/50\n",
            "25/25 [==============================] - 0s 8ms/step - loss: 0.4573 - accuracy: 0.8502 - val_loss: 0.5481 - val_accuracy: 0.7953\n",
            "Epoch 20/50\n",
            "25/25 [==============================] - 0s 7ms/step - loss: 0.4531 - accuracy: 0.8411 - val_loss: 0.6492 - val_accuracy: 0.7778\n",
            "Epoch 21/50\n",
            "25/25 [==============================] - 0s 7ms/step - loss: 0.5443 - accuracy: 0.8026 - val_loss: 0.6089 - val_accuracy: 0.7719\n",
            "Epoch 22/50\n",
            "25/25 [==============================] - 0s 8ms/step - loss: 0.3973 - accuracy: 0.8552 - val_loss: 0.6024 - val_accuracy: 0.7368\n",
            "Epoch 23/50\n",
            "25/25 [==============================] - 0s 7ms/step - loss: 0.4590 - accuracy: 0.8366 - val_loss: 0.6173 - val_accuracy: 0.7719\n",
            "Epoch 24/50\n",
            "25/25 [==============================] - 0s 7ms/step - loss: 0.3958 - accuracy: 0.8737 - val_loss: 0.6065 - val_accuracy: 0.7544\n",
            "Epoch 25/50\n",
            "25/25 [==============================] - 0s 8ms/step - loss: 0.3867 - accuracy: 0.8683 - val_loss: 0.5589 - val_accuracy: 0.7836\n",
            "Epoch 26/50\n",
            "25/25 [==============================] - 0s 7ms/step - loss: 0.3942 - accuracy: 0.8612 - val_loss: 0.4935 - val_accuracy: 0.7953\n",
            "Epoch 27/50\n",
            "25/25 [==============================] - 0s 7ms/step - loss: 0.4117 - accuracy: 0.8481 - val_loss: 0.5869 - val_accuracy: 0.7836\n",
            "Epoch 28/50\n",
            "25/25 [==============================] - 0s 8ms/step - loss: 0.4167 - accuracy: 0.8535 - val_loss: 0.5363 - val_accuracy: 0.8070\n",
            "Epoch 29/50\n",
            "25/25 [==============================] - 0s 7ms/step - loss: 0.3512 - accuracy: 0.8895 - val_loss: 0.4912 - val_accuracy: 0.8246\n",
            "Epoch 30/50\n",
            "25/25 [==============================] - 0s 7ms/step - loss: 0.3176 - accuracy: 0.8875 - val_loss: 0.5364 - val_accuracy: 0.8129\n",
            "Epoch 31/50\n",
            "25/25 [==============================] - 0s 7ms/step - loss: 0.3791 - accuracy: 0.8728 - val_loss: 0.5869 - val_accuracy: 0.8012\n",
            "Epoch 32/50\n",
            "25/25 [==============================] - 0s 7ms/step - loss: 0.3824 - accuracy: 0.8751 - val_loss: 0.5960 - val_accuracy: 0.7778\n",
            "Epoch 33/50\n",
            "25/25 [==============================] - 0s 8ms/step - loss: 0.3105 - accuracy: 0.8895 - val_loss: 0.5347 - val_accuracy: 0.8129\n",
            "Epoch 34/50\n",
            "25/25 [==============================] - 0s 7ms/step - loss: 0.3060 - accuracy: 0.9054 - val_loss: 0.6674 - val_accuracy: 0.7778\n",
            "Epoch 35/50\n",
            "25/25 [==============================] - 0s 7ms/step - loss: 0.2796 - accuracy: 0.9045 - val_loss: 0.6254 - val_accuracy: 0.8012\n",
            "Epoch 36/50\n",
            "25/25 [==============================] - 0s 7ms/step - loss: 0.2841 - accuracy: 0.9084 - val_loss: 0.6792 - val_accuracy: 0.7895\n",
            "Epoch 37/50\n",
            "25/25 [==============================] - 0s 7ms/step - loss: 0.2828 - accuracy: 0.9097 - val_loss: 0.5508 - val_accuracy: 0.8246\n",
            "Epoch 38/50\n",
            "25/25 [==============================] - 0s 8ms/step - loss: 0.3310 - accuracy: 0.8767 - val_loss: 0.5994 - val_accuracy: 0.8070\n",
            "Epoch 39/50\n",
            "25/25 [==============================] - 0s 7ms/step - loss: 0.2353 - accuracy: 0.9214 - val_loss: 0.5563 - val_accuracy: 0.8421\n",
            "Epoch 40/50\n",
            "25/25 [==============================] - 0s 7ms/step - loss: 0.2999 - accuracy: 0.9031 - val_loss: 0.5041 - val_accuracy: 0.8421\n",
            "Epoch 41/50\n",
            "25/25 [==============================] - 0s 7ms/step - loss: 0.2755 - accuracy: 0.9108 - val_loss: 0.5336 - val_accuracy: 0.8070\n",
            "Epoch 42/50\n",
            "25/25 [==============================] - 0s 7ms/step - loss: 0.2768 - accuracy: 0.8980 - val_loss: 0.7235 - val_accuracy: 0.8012\n",
            "Epoch 43/50\n",
            "25/25 [==============================] - 0s 7ms/step - loss: 0.2918 - accuracy: 0.9001 - val_loss: 0.5013 - val_accuracy: 0.8304\n",
            "Epoch 44/50\n",
            "25/25 [==============================] - 0s 8ms/step - loss: 0.2710 - accuracy: 0.9136 - val_loss: 0.4995 - val_accuracy: 0.8304\n",
            "Epoch 45/50\n",
            "25/25 [==============================] - 0s 7ms/step - loss: 0.2388 - accuracy: 0.9308 - val_loss: 0.4997 - val_accuracy: 0.8363\n",
            "Epoch 46/50\n",
            "25/25 [==============================] - 0s 7ms/step - loss: 0.2102 - accuracy: 0.9363 - val_loss: 0.5400 - val_accuracy: 0.8538\n",
            "Epoch 47/50\n",
            "25/25 [==============================] - 0s 7ms/step - loss: 0.2132 - accuracy: 0.9319 - val_loss: 0.5798 - val_accuracy: 0.8421\n",
            "Epoch 48/50\n",
            "25/25 [==============================] - 0s 7ms/step - loss: 0.2301 - accuracy: 0.9141 - val_loss: 0.5821 - val_accuracy: 0.8480\n",
            "Epoch 49/50\n",
            "25/25 [==============================] - 0s 8ms/step - loss: 0.2454 - accuracy: 0.9074 - val_loss: 0.6915 - val_accuracy: 0.7836\n",
            "Epoch 50/50\n",
            "25/25 [==============================] - 0s 7ms/step - loss: 0.2315 - accuracy: 0.9100 - val_loss: 0.5140 - val_accuracy: 0.8538\n"
          ],
          "name": "stdout"
        }
      ]
    },
    {
      "cell_type": "code",
      "metadata": {
        "id": "AUFHhdoNyALq",
        "colab": {
          "base_uri": "https://localhost:8080/",
          "height": 590
        },
        "outputId": "d44f1c4d-f3e0-4ba3-ecaa-46250bf653aa"
      },
      "source": [
        "import matplotlib.pyplot as plt\n",
        "\n",
        "print(H.history.keys())\n",
        "# summarize history for accuracy\n",
        "plt.plot(H.history['accuracy'])\n",
        "plt.plot(H.history['val_accuracy'])\n",
        "plt.title('model accuracy')\n",
        "plt.ylabel('accuracy')\n",
        "plt.xlabel('epoch')\n",
        "plt.legend(['train', 'test'], loc='upper left')\n",
        "plt.show()\n",
        "# summarize history for loss\n",
        "plt.plot(H.history['loss'])\n",
        "plt.plot(H.history['val_loss'])\n",
        "plt.title('model loss')\n",
        "plt.ylabel('loss')\n",
        "plt.xlabel('epoch')\n",
        "plt.legend(['train', 'test'], loc='upper left')\n",
        "plt.show()"
      ],
      "execution_count": 156,
      "outputs": [
        {
          "output_type": "stream",
          "text": [
            "dict_keys(['loss', 'accuracy', 'val_loss', 'val_accuracy'])\n"
          ],
          "name": "stdout"
        },
        {
          "output_type": "display_data",
          "data": {
            "image/png": "[encoded data removed]",
            "text/plain": [
              "<Figure size 432x288 with 1 Axes>"
            ]
          },
          "metadata": {
            "tags": [],
            "needs_background": "light"
          }
        },
        {
          "output_type": "display_data",
          "data": {
            "image/png": "[encoded data removed]",
            "text/plain": [
              "<Figure size 432x288 with 1 Axes>"
            ]
          },
          "metadata": {
            "tags": [],
            "needs_background": "light"
          }
        }
      ]
    },
    {
      "cell_type": "code",
      "metadata": {
        "id": "jVn-NajeyFny",
        "colab": {
          "base_uri": "https://localhost:8080/"
        },
        "outputId": "4cfdb7ec-72a2-472c-83c5-7fa42a674d2d"
      },
      "source": [
        "print(\"[INFO] evaluating network...\")\n",
        "predictions = model.predict(testX, batch_size=32)\n",
        "print(classification_report(testY.argmax(axis=1),\n",
        "\tpredictions.argmax(axis=1), target_names=lb.classes_))"
      ],
      "execution_count": 157,
      "outputs": [
        {
          "output_type": "stream",
          "text": [
            "[INFO] evaluating network...\n",
            "WARNING:tensorflow:Model was constructed with shape (None, 3072) for input KerasTensor(type_spec=TensorSpec(shape=(None, 3072), dtype=tf.float32, name='flatten_15_input'), name='flatten_15_input', description=\"created by layer 'flatten_15_input'\"), but it was called on an input with incompatible shape (None, 32, 32, 3).\n",
            "              precision    recall  f1-score   support\n",
            "\n",
            "       coast       0.84      0.86      0.85        59\n",
            "      forest       0.91      0.88      0.89        66\n",
            "     highway       0.80      0.80      0.80        46\n",
            "\n",
            "    accuracy                           0.85       171\n",
            "   macro avg       0.85      0.85      0.85       171\n",
            "weighted avg       0.85      0.85      0.85       171\n",
            "\n"
          ],
          "name": "stdout"
        }
      ]
    }
  ]
}