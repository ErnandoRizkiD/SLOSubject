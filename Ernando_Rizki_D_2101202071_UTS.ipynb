{
  "nbformat": 4,
  "nbformat_minor": 0,
  "metadata": {
    "colab": {
      "name": "Ernando Rizki D-2101202071-UTS.ipynb",
      "provenance": [],
      "collapsed_sections": [],
      "mount_file_id": "1hP7PjNUYM1F6nb74-VY4i7ka8R5ZB487",
      "authorship_tag": "ABX9TyNPdinattGNV6q5UlMN/qTU",
      "include_colab_link": true
    },
    "kernelspec": {
      "name": "python3",
      "display_name": "Python 3"
    },
    "language_info": {
      "name": "python"
    },
    "accelerator": "GPU"
  },
  "cells": [
    {
      "cell_type": "markdown",
      "metadata": {
        "id": "view-in-github",
        "colab_type": "text"
      },
      "source": [
        "<a href=\"https://colab.research.google.com/github/ErnandoRizkiD/TugasSLO/blob/main/Ernando_Rizki_D_2101202071_UTS.ipynb\" target=\"_parent\"><img src=\"https://colab.research.google.com/assets/colab-badge.svg\" alt=\"Open In Colab\"/></a>"
      ]
    },
    {
      "cell_type": "code",
      "metadata": {
        "colab": {
          "base_uri": "https://localhost:8080/"
        },
        "id": "zzXHPW7pttBt",
        "outputId": "c426c095-22e6-4849-ab67-a7f47c5736ed"
      },
      "source": [
        "cd /content/drive/MyDrive/Colab Notebooks"
      ],
      "execution_count": 71,
      "outputs": [
        {
          "output_type": "stream",
          "text": [
            "/content/drive/MyDrive/Colab Notebooks\n"
          ],
          "name": "stdout"
        }
      ]
    },
    {
      "cell_type": "code",
      "metadata": {
        "id": "A1sPHMq3t3ZM",
        "colab": {
          "base_uri": "https://localhost:8080/"
        },
        "outputId": "6b04a1d9-55e5-4dd4-f5b7-ccdaede5b841"
      },
      "source": [
        "ls"
      ],
      "execution_count": 72,
      "outputs": [
        {
          "output_type": "stream",
          "text": [
            " \u001b[0m\u001b[01;36m3scene\u001b[0m@                        'TugasSLO_2201202071_Ernando Rizki D.ipynb'\n",
            " classify_iris_ANN.ipynb         Untitled0.ipynb\n",
            "'Salinan dari Untitled1.ipynb'   UTS.ipynb\n"
          ],
          "name": "stdout"
        }
      ]
    },
    {
      "cell_type": "code",
      "metadata": {
        "id": "j1HJCE5Nvz-h"
      },
      "source": [
        "# import the necessary packages\n",
        "from keras.models import Sequential\n",
        "from keras.layers.core import Activation\n",
        "from keras.layers.core import Flatten\n",
        "from keras.layers.core import Dense\n",
        "from keras.optimizers import Adam\n",
        "from sklearn.preprocessing import LabelBinarizer\n",
        "from sklearn.model_selection import train_test_split\n",
        "from sklearn.metrics import classification_report\n",
        "from PIL import Image, ImageFilter\n",
        "from imutils import paths\n",
        "import numpy as np\n",
        "import os"
      ],
      "execution_count": 73,
      "outputs": []
    },
    {
      "cell_type": "code",
      "metadata": {
        "colab": {
          "base_uri": "https://localhost:8080/"
        },
        "id": "I0xHtywxv29L",
        "outputId": "4d15bc92-773e-4fa7-e1b3-296d327ca338"
      },
      "source": [
        "print(\"[INFO] loading images...\")\n",
        "imagePaths = paths.list_images(\"3scene\")\n",
        "data = []\n",
        "labels = []"
      ],
      "execution_count": 96,
      "outputs": [
        {
          "output_type": "stream",
          "text": [
            "[INFO] loading images...\n"
          ],
          "name": "stdout"
        }
      ]
    },
    {
      "cell_type": "code",
      "metadata": {
        "id": "euPIxwoNv8nQ"
      },
      "source": [
        "for imagePath in imagePaths:\n",
        "\t# load the input image from disk, resize it to 64x64 pixels, scale\n",
        "\t# the pixel intensities to the range [0, 1], and then update our\n",
        "\t# images list\n",
        "\timage = Image.open(imagePath)\n",
        " #bisa pasang preprocessing disini jika mau, seperti filterring, dll\n",
        "\timage = np.array(image.resize((32,32))) / 255.0 #normalisasi\n",
        "\tdata.append(image)\n",
        "\n",
        "\t# extract the class label from the file path and update the\n",
        "\t# labels list\n",
        "\tlabel = imagePath.split(os.path.sep)[-2]\n",
        "\tlabels.append(label)"
      ],
      "execution_count": 97,
      "outputs": []
    },
    {
      "cell_type": "code",
      "metadata": {
        "colab": {
          "base_uri": "https://localhost:8080/"
        },
        "id": "g8qVe_0jwBrn",
        "outputId": "70525d04-1dbd-4611-a68f-af1ba8dde04a"
      },
      "source": [
        "print(labels)"
      ],
      "execution_count": 76,
      "outputs": [
        {
          "output_type": "stream",
          "text": [
            "['forest', 'forest', 'forest', 'forest', 'forest', 'forest', 'forest', 'forest', 'forest', 'forest', 'forest', 'forest', 'forest', 'forest', 'forest', 'forest', 'forest', 'forest', 'forest', 'forest', 'forest', 'forest', 'forest', 'forest', 'forest', 'forest', 'forest', 'forest', 'forest', 'forest', 'forest', 'forest', 'forest', 'forest', 'forest', 'forest', 'forest', 'forest', 'forest', 'forest', 'forest', 'forest', 'forest', 'forest', 'forest', 'forest', 'forest', 'forest', 'forest', 'forest', 'forest', 'forest', 'forest', 'forest', 'forest', 'forest', 'forest', 'forest', 'forest', 'forest', 'forest', 'forest', 'forest', 'forest', 'forest', 'forest', 'forest', 'forest', 'forest', 'forest', 'forest', 'forest', 'forest', 'forest', 'forest', 'forest', 'forest', 'forest', 'forest', 'forest', 'forest', 'forest', 'forest', 'forest', 'forest', 'forest', 'forest', 'forest', 'forest', 'forest', 'forest', 'forest', 'forest', 'forest', 'forest', 'forest', 'forest', 'forest', 'forest', 'forest', 'forest', 'forest', 'forest', 'forest', 'forest', 'forest', 'forest', 'forest', 'forest', 'forest', 'forest', 'forest', 'forest', 'forest', 'forest', 'forest', 'forest', 'forest', 'forest', 'forest', 'forest', 'forest', 'forest', 'forest', 'forest', 'forest', 'forest', 'forest', 'forest', 'forest', 'forest', 'forest', 'forest', 'forest', 'forest', 'forest', 'forest', 'forest', 'forest', 'forest', 'forest', 'forest', 'forest', 'forest', 'forest', 'forest', 'forest', 'forest', 'forest', 'forest', 'forest', 'forest', 'forest', 'forest', 'forest', 'forest', 'forest', 'forest', 'forest', 'forest', 'forest', 'forest', 'forest', 'forest', 'forest', 'forest', 'forest', 'forest', 'forest', 'forest', 'forest', 'forest', 'forest', 'forest', 'forest', 'forest', 'forest', 'forest', 'forest', 'forest', 'forest', 'forest', 'forest', 'forest', 'forest', 'forest', 'forest', 'forest', 'forest', 'forest', 'forest', 'forest', 'forest', 'forest', 'forest', 'forest', 'forest', 'forest', 'forest', 'forest', 'forest', 'forest', 'forest', 'forest', 'forest', 'forest', 'forest', 'forest', 'forest', 'forest', 'forest', 'forest', 'forest', 'forest', 'forest', 'forest', 'forest', 'forest', 'forest', 'forest', 'forest', 'forest', 'forest', 'forest', 'forest', 'forest', 'forest', 'forest', 'forest', 'forest', 'forest', 'forest', 'forest', 'forest', 'forest', 'forest', 'forest', 'forest', 'forest', 'forest', 'forest', 'forest', 'forest', 'forest', 'forest', 'forest', 'forest', 'forest', 'forest', 'forest', 'forest', 'forest', 'forest', 'forest', 'forest', 'forest', 'forest', 'forest', 'forest', 'forest', 'forest', 'forest', 'forest', 'forest', 'forest', 'forest', 'forest', 'forest', 'forest', 'forest', 'forest', 'forest', 'forest', 'forest', 'forest', 'forest', 'forest', 'forest', 'forest', 'forest', 'forest', 'forest', 'forest', 'forest', 'forest', 'forest', 'forest', 'forest', 'forest', 'forest', 'forest', 'forest', 'forest', 'forest', 'forest', 'forest', 'forest', 'forest', 'forest', 'forest', 'forest', 'forest', 'forest', 'forest', 'forest', 'forest', 'forest', 'forest', 'forest', 'forest', 'forest', 'forest', 'forest', 'forest', 'forest', 'forest', 'forest', 'forest', 'forest', 'forest', 'forest', 'forest', 'forest', 'forest', 'forest', 'forest', 'forest', 'forest', 'highway', 'highway', 'highway', 'highway', 'highway', 'highway', 'highway', 'highway', 'highway', 'highway', 'highway', 'highway', 'highway', 'highway', 'highway', 'highway', 'highway', 'highway', 'highway', 'highway', 'highway', 'highway', 'highway', 'highway', 'highway', 'highway', 'highway', 'highway', 'highway', 'highway', 'highway', 'highway', 'highway', 'highway', 'highway', 'highway', 'highway', 'highway', 'highway', 'highway', 'highway', 'highway', 'highway', 'highway', 'highway', 'highway', 'highway', 'highway', 'highway', 'highway', 'highway', 'highway', 'highway', 'highway', 'highway', 'highway', 'highway', 'highway', 'highway', 'highway', 'highway', 'highway', 'highway', 'highway', 'highway', 'highway', 'highway', 'highway', 'highway', 'highway', 'highway', 'highway', 'highway', 'highway', 'highway', 'highway', 'highway', 'highway', 'highway', 'highway', 'highway', 'highway', 'highway', 'highway', 'highway', 'highway', 'highway', 'highway', 'highway', 'highway', 'highway', 'highway', 'highway', 'highway', 'highway', 'highway', 'highway', 'highway', 'highway', 'highway', 'highway', 'highway', 'highway', 'highway', 'highway', 'highway', 'highway', 'highway', 'highway', 'highway', 'highway', 'highway', 'highway', 'highway', 'highway', 'highway', 'highway', 'highway', 'highway', 'highway', 'highway', 'highway', 'highway', 'highway', 'highway', 'highway', 'highway', 'highway', 'highway', 'highway', 'highway', 'highway', 'highway', 'highway', 'highway', 'highway', 'highway', 'highway', 'highway', 'highway', 'highway', 'highway', 'highway', 'highway', 'highway', 'highway', 'highway', 'highway', 'highway', 'highway', 'highway', 'highway', 'highway', 'highway', 'highway', 'highway', 'highway', 'highway', 'highway', 'highway', 'highway', 'highway', 'highway', 'highway', 'highway', 'highway', 'highway', 'highway', 'highway', 'highway', 'highway', 'highway', 'highway', 'highway', 'highway', 'highway', 'highway', 'highway', 'highway', 'highway', 'highway', 'highway', 'highway', 'highway', 'highway', 'highway', 'highway', 'highway', 'highway', 'highway', 'highway', 'highway', 'highway', 'highway', 'highway', 'highway', 'highway', 'highway', 'highway', 'highway', 'highway', 'highway', 'highway', 'highway', 'highway', 'highway', 'highway', 'highway', 'highway', 'highway', 'highway', 'highway', 'highway', 'highway', 'highway', 'highway', 'highway', 'highway', 'highway', 'highway', 'highway', 'highway', 'highway', 'highway', 'highway', 'highway', 'highway', 'highway', 'highway', 'highway', 'highway', 'highway', 'highway', 'highway', 'highway', 'highway', 'highway', 'highway', 'highway', 'highway', 'highway', 'highway', 'highway', 'highway', 'highway', 'highway', 'highway', 'highway', 'highway', 'highway', 'highway', 'highway', 'highway', 'highway', 'highway', 'highway', 'highway', 'highway', 'highway', 'highway', 'coast', 'coast', 'coast', 'coast', 'coast', 'coast', 'coast', 'coast', 'coast', 'coast', 'coast', 'coast', 'coast', 'coast', 'coast', 'coast', 'coast', 'coast', 'coast', 'coast', 'coast', 'coast', 'coast', 'coast', 'coast', 'coast', 'coast', 'coast', 'coast', 'coast', 'coast', 'coast', 'coast', 'coast', 'coast', 'coast', 'coast', 'coast', 'coast', 'coast', 'coast', 'coast', 'coast', 'coast', 'coast', 'coast', 'coast', 'coast', 'coast', 'coast', 'coast', 'coast', 'coast', 'coast', 'coast', 'coast', 'coast', 'coast', 'coast', 'coast', 'coast', 'coast', 'coast', 'coast', 'coast', 'coast', 'coast', 'coast', 'coast', 'coast', 'coast', 'coast', 'coast', 'coast', 'coast', 'coast', 'coast', 'coast', 'coast', 'coast', 'coast', 'coast', 'coast', 'coast', 'coast', 'coast', 'coast', 'coast', 'coast', 'coast', 'coast', 'coast', 'coast', 'coast', 'coast', 'coast', 'coast', 'coast', 'coast', 'coast', 'coast', 'coast', 'coast', 'coast', 'coast', 'coast', 'coast', 'coast', 'coast', 'coast', 'coast', 'coast', 'coast', 'coast', 'coast', 'coast', 'coast', 'coast', 'coast', 'coast', 'coast', 'coast', 'coast', 'coast', 'coast', 'coast', 'coast', 'coast', 'coast', 'coast', 'coast', 'coast', 'coast', 'coast', 'coast', 'coast', 'coast', 'coast', 'coast', 'coast', 'coast', 'coast', 'coast', 'coast', 'coast', 'coast', 'coast', 'coast', 'coast', 'coast', 'coast', 'coast', 'coast', 'coast', 'coast', 'coast', 'coast', 'coast', 'coast', 'coast', 'coast', 'coast', 'coast', 'coast', 'coast', 'coast', 'coast', 'coast', 'coast', 'coast', 'coast', 'coast', 'coast', 'coast', 'coast', 'coast', 'coast', 'coast', 'coast', 'coast', 'coast', 'coast', 'coast', 'coast', 'coast', 'coast', 'coast', 'coast', 'coast', 'coast', 'coast', 'coast', 'coast', 'coast', 'coast', 'coast', 'coast', 'coast', 'coast', 'coast', 'coast', 'coast', 'coast', 'coast', 'coast', 'coast', 'coast', 'coast', 'coast', 'coast', 'coast', 'coast', 'coast', 'coast', 'coast', 'coast', 'coast', 'coast', 'coast', 'coast', 'coast', 'coast', 'coast', 'coast', 'coast', 'coast', 'coast', 'coast', 'coast', 'coast', 'coast', 'coast', 'coast', 'coast', 'coast', 'coast', 'coast', 'coast', 'coast', 'coast', 'coast', 'coast', 'coast', 'coast', 'coast', 'coast', 'coast', 'coast', 'coast', 'coast', 'coast', 'coast', 'coast', 'coast', 'coast', 'coast', 'coast', 'coast', 'coast', 'coast', 'coast', 'coast', 'coast', 'coast', 'coast', 'coast', 'coast', 'coast', 'coast', 'coast', 'coast', 'coast', 'coast', 'coast', 'coast', 'coast', 'coast', 'coast', 'coast', 'coast', 'coast', 'coast', 'coast', 'coast', 'coast', 'coast', 'coast', 'coast', 'coast', 'coast', 'coast', 'coast', 'coast', 'coast', 'coast', 'coast', 'coast', 'coast', 'coast', 'coast', 'coast', 'coast', 'coast', 'coast', 'coast', 'coast', 'coast', 'coast', 'coast', 'coast', 'coast', 'coast', 'coast', 'coast', 'coast', 'coast', 'coast', 'coast', 'coast', 'coast', 'coast', 'coast', 'coast', 'coast', 'coast', 'coast', 'coast', 'coast', 'coast', 'coast', 'coast', 'coast', 'coast', 'coast', 'coast', 'coast', 'coast', 'coast', 'coast', 'coast', 'coast', 'coast', 'coast', 'coast', 'coast', 'coast', 'coast', 'coast', 'coast', 'coast', 'coast', 'coast', 'coast', 'coast', 'coast', 'coast', 'coast', 'coast', 'coast', 'coast']\n"
          ],
          "name": "stdout"
        }
      ]
    },
    {
      "cell_type": "code",
      "metadata": {
        "id": "f9mCm0coxUv1"
      },
      "source": [
        "# encode the labels, converting them from strings to integers\n",
        "lb = LabelBinarizer()\n",
        "labels = lb.fit_transform(labels)"
      ],
      "execution_count": 98,
      "outputs": []
    },
    {
      "cell_type": "code",
      "metadata": {
        "colab": {
          "base_uri": "https://localhost:8080/"
        },
        "id": "VpaQHnvDxX_i",
        "outputId": "52fe9d72-db19-4d6a-8ccf-0450af488f26"
      },
      "source": [
        "print (labels)"
      ],
      "execution_count": 78,
      "outputs": [
        {
          "output_type": "stream",
          "text": [
            "[[0 1 0]\n",
            " [0 1 0]\n",
            " [0 1 0]\n",
            " ...\n",
            " [1 0 0]\n",
            " [1 0 0]\n",
            " [1 0 0]]\n"
          ],
          "name": "stdout"
        }
      ]
    },
    {
      "cell_type": "code",
      "metadata": {
        "colab": {
          "base_uri": "https://localhost:8080/"
        },
        "id": "gLpJ1MoRxfeJ",
        "outputId": "8a8d887f-2a81-48fb-a11f-110976c1458d"
      },
      "source": [
        "print(np.array(data).shape)"
      ],
      "execution_count": 79,
      "outputs": [
        {
          "output_type": "stream",
          "text": [
            "(948, 32, 32, 3)\n"
          ],
          "name": "stdout"
        }
      ]
    },
    {
      "cell_type": "code",
      "metadata": {
        "colab": {
          "base_uri": "https://localhost:8080/"
        },
        "id": "40ry6Ik1xmrm",
        "outputId": "35aad0f7-1491-4120-a9ca-4aaf8047e9dc"
      },
      "source": [
        "(trainX, testX, trainY, testY) = train_test_split(np.array(data),\tnp.array(labels), test_size=0.18)\n",
        "print(trainX.shape)\n",
        "print(testX.shape)"
      ],
      "execution_count": 99,
      "outputs": [
        {
          "output_type": "stream",
          "text": [
            "(777, 32, 32, 3)\n",
            "(171, 32, 32, 3)\n"
          ],
          "name": "stdout"
        }
      ]
    },
    {
      "cell_type": "code",
      "metadata": {
        "id": "B2-jiHZHxoEg"
      },
      "source": [
        "from keras.models import Sequential\n",
        "from keras.layers.core import Flatten\n",
        "from keras.layers.core import Dense, Dropout\n",
        "\n",
        "model = Sequential(\n",
        "    [\n",
        "        Flatten(input_shape=(32*32*3,)),\n",
        "     Dense(512, activation=\"relu\"),\n",
        "        Dense(256, activation=\"relu\"),\n",
        "        Dropout(0.3),\n",
        "        Dense(128, activation=\"relu\"),\n",
        "        Dense(64, activation=\"relu\"),\n",
        "        Dropout(0.3),\n",
        "        Dense(32, activation=\"relu\"),\n",
        "        Dense(16, activation=\"relu\"),\n",
        "        Dense(3, activation = \"softmax\"),\n",
        "    ]\n",
        ")"
      ],
      "execution_count": 100,
      "outputs": []
    },
    {
      "cell_type": "code",
      "metadata": {
        "colab": {
          "base_uri": "https://localhost:8080/"
        },
        "id": "oaFMdcbXx1fu",
        "outputId": "82cd3fbe-36df-40fc-c3bb-0c93dd8f3064"
      },
      "source": [
        "model.summary()"
      ],
      "execution_count": 101,
      "outputs": [
        {
          "output_type": "stream",
          "text": [
            "Model: \"sequential_10\"\n",
            "_________________________________________________________________\n",
            "Layer (type)                 Output Shape              Param #   \n",
            "=================================================================\n",
            "flatten_10 (Flatten)         (None, 3072)              0         \n",
            "_________________________________________________________________\n",
            "dense_70 (Dense)             (None, 512)               1573376   \n",
            "_________________________________________________________________\n",
            "dense_71 (Dense)             (None, 256)               131328    \n",
            "_________________________________________________________________\n",
            "dropout_20 (Dropout)         (None, 256)               0         \n",
            "_________________________________________________________________\n",
            "dense_72 (Dense)             (None, 128)               32896     \n",
            "_________________________________________________________________\n",
            "dense_73 (Dense)             (None, 64)                8256      \n",
            "_________________________________________________________________\n",
            "dropout_21 (Dropout)         (None, 64)                0         \n",
            "_________________________________________________________________\n",
            "dense_74 (Dense)             (None, 32)                2080      \n",
            "_________________________________________________________________\n",
            "dense_75 (Dense)             (None, 16)                528       \n",
            "_________________________________________________________________\n",
            "dense_76 (Dense)             (None, 3)                 51        \n",
            "=================================================================\n",
            "Total params: 1,748,515\n",
            "Trainable params: 1,748,515\n",
            "Non-trainable params: 0\n",
            "_________________________________________________________________\n"
          ],
          "name": "stdout"
        }
      ]
    },
    {
      "cell_type": "code",
      "metadata": {
        "colab": {
          "base_uri": "https://localhost:8080/"
        },
        "id": "kNNU2qHxx4Hl",
        "outputId": "eb84c7e4-b220-4f75-e182-cc255e5fb7eb"
      },
      "source": [
        "print(\"[INFO] training network...\")\n",
        "opt = Adam(lr=1e-3, decay=1e-3)\n",
        "model.compile(loss=\"categorical_crossentropy\", optimizer=opt,\n",
        "\tmetrics=[\"accuracy\"])\n",
        "H = model.fit(trainX, trainY, validation_data=(testX, testY), epochs=50, batch_size=32)"
      ],
      "execution_count": 102,
      "outputs": [
        {
          "output_type": "stream",
          "text": [
            "[INFO] training network...\n",
            "Epoch 1/50\n",
            "WARNING:tensorflow:Model was constructed with shape (None, 3072) for input KerasTensor(type_spec=TensorSpec(shape=(None, 3072), dtype=tf.float32, name='flatten_10_input'), name='flatten_10_input', description=\"created by layer 'flatten_10_input'\"), but it was called on an input with incompatible shape (None, 32, 32, 3).\n",
            "WARNING:tensorflow:Model was constructed with shape (None, 3072) for input KerasTensor(type_spec=TensorSpec(shape=(None, 3072), dtype=tf.float32, name='flatten_10_input'), name='flatten_10_input', description=\"created by layer 'flatten_10_input'\"), but it was called on an input with incompatible shape (None, 32, 32, 3).\n",
            "21/25 [========================>.....] - ETA: 0s - loss: 1.1845 - accuracy: 0.3812WARNING:tensorflow:Model was constructed with shape (None, 3072) for input KerasTensor(type_spec=TensorSpec(shape=(None, 3072), dtype=tf.float32, name='flatten_10_input'), name='flatten_10_input', description=\"created by layer 'flatten_10_input'\"), but it was called on an input with incompatible shape (None, 32, 32, 3).\n",
            "25/25 [==============================] - 1s 16ms/step - loss: 1.1860 - accuracy: 0.3751 - val_loss: 1.1113 - val_accuracy: 0.2281\n",
            "Epoch 2/50\n",
            "25/25 [==============================] - 0s 7ms/step - loss: 1.1160 - accuracy: 0.3664 - val_loss: 1.0768 - val_accuracy: 0.4269\n",
            "Epoch 3/50\n",
            "25/25 [==============================] - 0s 7ms/step - loss: 1.1338 - accuracy: 0.3481 - val_loss: 1.0718 - val_accuracy: 0.3860\n",
            "Epoch 4/50\n",
            "25/25 [==============================] - 0s 7ms/step - loss: 1.0815 - accuracy: 0.3982 - val_loss: 1.0820 - val_accuracy: 0.4211\n",
            "Epoch 5/50\n",
            "25/25 [==============================] - 0s 7ms/step - loss: 1.0751 - accuracy: 0.3800 - val_loss: 1.0153 - val_accuracy: 0.3684\n",
            "Epoch 6/50\n",
            "25/25 [==============================] - 0s 7ms/step - loss: 1.0299 - accuracy: 0.4060 - val_loss: 0.9749 - val_accuracy: 0.4094\n",
            "Epoch 7/50\n",
            "25/25 [==============================] - 0s 7ms/step - loss: 1.0200 - accuracy: 0.3838 - val_loss: 0.9392 - val_accuracy: 0.4854\n",
            "Epoch 8/50\n",
            "25/25 [==============================] - 0s 8ms/step - loss: 0.9769 - accuracy: 0.4620 - val_loss: 0.9276 - val_accuracy: 0.5614\n",
            "Epoch 9/50\n",
            "25/25 [==============================] - 0s 7ms/step - loss: 0.9445 - accuracy: 0.5650 - val_loss: 0.8775 - val_accuracy: 0.5556\n",
            "Epoch 10/50\n",
            "25/25 [==============================] - 0s 7ms/step - loss: 0.8733 - accuracy: 0.5918 - val_loss: 0.8314 - val_accuracy: 0.6550\n",
            "Epoch 11/50\n",
            "25/25 [==============================] - 0s 7ms/step - loss: 0.8528 - accuracy: 0.5958 - val_loss: 0.8251 - val_accuracy: 0.6550\n",
            "Epoch 12/50\n",
            "25/25 [==============================] - 0s 7ms/step - loss: 0.8009 - accuracy: 0.6458 - val_loss: 0.7598 - val_accuracy: 0.6608\n",
            "Epoch 13/50\n",
            "25/25 [==============================] - 0s 8ms/step - loss: 0.7867 - accuracy: 0.6525 - val_loss: 0.7268 - val_accuracy: 0.6784\n",
            "Epoch 14/50\n",
            "25/25 [==============================] - 0s 7ms/step - loss: 0.7398 - accuracy: 0.6927 - val_loss: 0.6688 - val_accuracy: 0.7251\n",
            "Epoch 15/50\n",
            "25/25 [==============================] - 0s 7ms/step - loss: 0.7303 - accuracy: 0.6944 - val_loss: 0.6450 - val_accuracy: 0.7076\n",
            "Epoch 16/50\n",
            "25/25 [==============================] - 0s 7ms/step - loss: 0.7109 - accuracy: 0.6853 - val_loss: 0.6548 - val_accuracy: 0.7368\n",
            "Epoch 17/50\n",
            "25/25 [==============================] - 0s 7ms/step - loss: 0.6563 - accuracy: 0.7247 - val_loss: 0.5255 - val_accuracy: 0.7895\n",
            "Epoch 18/50\n",
            "25/25 [==============================] - 0s 7ms/step - loss: 0.5965 - accuracy: 0.7674 - val_loss: 0.5225 - val_accuracy: 0.8070\n",
            "Epoch 19/50\n",
            "25/25 [==============================] - 0s 7ms/step - loss: 0.5902 - accuracy: 0.7767 - val_loss: 0.4591 - val_accuracy: 0.8713\n",
            "Epoch 20/50\n",
            "25/25 [==============================] - 0s 7ms/step - loss: 0.5191 - accuracy: 0.8129 - val_loss: 0.6021 - val_accuracy: 0.7427\n",
            "Epoch 21/50\n",
            "25/25 [==============================] - 0s 7ms/step - loss: 0.5544 - accuracy: 0.7714 - val_loss: 0.4572 - val_accuracy: 0.8538\n",
            "Epoch 22/50\n",
            "25/25 [==============================] - 0s 7ms/step - loss: 0.4942 - accuracy: 0.8251 - val_loss: 0.4202 - val_accuracy: 0.8480\n",
            "Epoch 23/50\n",
            "25/25 [==============================] - 0s 7ms/step - loss: 0.5374 - accuracy: 0.8192 - val_loss: 0.4389 - val_accuracy: 0.8538\n",
            "Epoch 24/50\n",
            "25/25 [==============================] - 0s 7ms/step - loss: 0.4510 - accuracy: 0.8318 - val_loss: 0.4790 - val_accuracy: 0.8363\n",
            "Epoch 25/50\n",
            "25/25 [==============================] - 0s 7ms/step - loss: 0.4848 - accuracy: 0.8285 - val_loss: 0.4768 - val_accuracy: 0.8421\n",
            "Epoch 26/50\n",
            "25/25 [==============================] - 0s 7ms/step - loss: 0.4235 - accuracy: 0.8466 - val_loss: 0.4202 - val_accuracy: 0.8538\n",
            "Epoch 27/50\n",
            "25/25 [==============================] - 0s 7ms/step - loss: 0.4367 - accuracy: 0.8291 - val_loss: 0.4363 - val_accuracy: 0.8655\n",
            "Epoch 28/50\n",
            "25/25 [==============================] - 0s 7ms/step - loss: 0.4089 - accuracy: 0.8658 - val_loss: 0.4415 - val_accuracy: 0.8538\n",
            "Epoch 29/50\n",
            "25/25 [==============================] - 0s 7ms/step - loss: 0.4211 - accuracy: 0.8476 - val_loss: 0.4169 - val_accuracy: 0.8655\n",
            "Epoch 30/50\n",
            "25/25 [==============================] - 0s 7ms/step - loss: 0.3368 - accuracy: 0.8963 - val_loss: 0.3952 - val_accuracy: 0.8713\n",
            "Epoch 31/50\n",
            "25/25 [==============================] - 0s 7ms/step - loss: 0.3659 - accuracy: 0.8733 - val_loss: 0.3838 - val_accuracy: 0.8655\n",
            "Epoch 32/50\n",
            "25/25 [==============================] - 0s 8ms/step - loss: 0.4365 - accuracy: 0.8182 - val_loss: 0.4207 - val_accuracy: 0.8713\n",
            "Epoch 33/50\n",
            "25/25 [==============================] - 0s 7ms/step - loss: 0.4290 - accuracy: 0.8356 - val_loss: 0.3831 - val_accuracy: 0.8830\n",
            "Epoch 34/50\n",
            "25/25 [==============================] - 0s 7ms/step - loss: 0.3327 - accuracy: 0.8902 - val_loss: 0.4125 - val_accuracy: 0.8596\n",
            "Epoch 35/50\n",
            "25/25 [==============================] - 0s 8ms/step - loss: 0.3954 - accuracy: 0.8607 - val_loss: 0.3933 - val_accuracy: 0.8830\n",
            "Epoch 36/50\n",
            "25/25 [==============================] - 0s 7ms/step - loss: 0.3254 - accuracy: 0.8944 - val_loss: 0.4281 - val_accuracy: 0.8480\n",
            "Epoch 37/50\n",
            "25/25 [==============================] - 0s 7ms/step - loss: 0.3347 - accuracy: 0.8859 - val_loss: 0.4220 - val_accuracy: 0.8480\n",
            "Epoch 38/50\n",
            "25/25 [==============================] - 0s 7ms/step - loss: 0.3078 - accuracy: 0.8958 - val_loss: 0.4096 - val_accuracy: 0.8713\n",
            "Epoch 39/50\n",
            "25/25 [==============================] - 0s 7ms/step - loss: 0.3482 - accuracy: 0.8708 - val_loss: 0.4117 - val_accuracy: 0.8596\n",
            "Epoch 40/50\n",
            "25/25 [==============================] - 0s 7ms/step - loss: 0.3044 - accuracy: 0.8967 - val_loss: 0.3821 - val_accuracy: 0.8889\n",
            "Epoch 41/50\n",
            "25/25 [==============================] - 0s 8ms/step - loss: 0.2568 - accuracy: 0.9125 - val_loss: 0.4756 - val_accuracy: 0.7953\n",
            "Epoch 42/50\n",
            "25/25 [==============================] - 0s 7ms/step - loss: 0.3728 - accuracy: 0.8510 - val_loss: 0.3798 - val_accuracy: 0.8772\n",
            "Epoch 43/50\n",
            "25/25 [==============================] - 0s 7ms/step - loss: 0.2814 - accuracy: 0.9034 - val_loss: 0.4010 - val_accuracy: 0.8713\n",
            "Epoch 44/50\n",
            "25/25 [==============================] - 0s 7ms/step - loss: 0.3543 - accuracy: 0.8801 - val_loss: 0.3977 - val_accuracy: 0.8713\n",
            "Epoch 45/50\n",
            "25/25 [==============================] - 0s 7ms/step - loss: 0.3037 - accuracy: 0.9070 - val_loss: 0.4067 - val_accuracy: 0.8830\n",
            "Epoch 46/50\n",
            "25/25 [==============================] - 0s 7ms/step - loss: 0.2652 - accuracy: 0.9132 - val_loss: 0.3877 - val_accuracy: 0.8713\n",
            "Epoch 47/50\n",
            "25/25 [==============================] - 0s 7ms/step - loss: 0.2870 - accuracy: 0.8972 - val_loss: 0.4105 - val_accuracy: 0.8596\n",
            "Epoch 48/50\n",
            "25/25 [==============================] - 0s 7ms/step - loss: 0.2578 - accuracy: 0.8993 - val_loss: 0.4026 - val_accuracy: 0.8655\n",
            "Epoch 49/50\n",
            "25/25 [==============================] - 0s 7ms/step - loss: 0.2338 - accuracy: 0.9243 - val_loss: 0.4294 - val_accuracy: 0.8830\n",
            "Epoch 50/50\n",
            "25/25 [==============================] - 0s 8ms/step - loss: 0.2886 - accuracy: 0.8806 - val_loss: 0.4273 - val_accuracy: 0.8596\n"
          ],
          "name": "stdout"
        }
      ]
    },
    {
      "cell_type": "code",
      "metadata": {
        "id": "AUFHhdoNyALq",
        "colab": {
          "base_uri": "https://localhost:8080/",
          "height": 590
        },
        "outputId": "63a64310-3864-49cd-f755-faf4f0d1986f"
      },
      "source": [
        "import matplotlib.pyplot as plt\n",
        "\n",
        "print(H.history.keys())\n",
        "# summarize history for accuracy\n",
        "plt.plot(H.history['accuracy'])\n",
        "plt.plot(H.history['val_accuracy'])\n",
        "plt.title('model accuracy')\n",
        "plt.ylabel('accuracy')\n",
        "plt.xlabel('epoch')\n",
        "plt.legend(['train', 'test'], loc='upper left')\n",
        "plt.show()\n",
        "# summarize history for loss\n",
        "plt.plot(H.history['loss'])\n",
        "plt.plot(H.history['val_loss'])\n",
        "plt.title('model loss')\n",
        "plt.ylabel('loss')\n",
        "plt.xlabel('epoch')\n",
        "plt.legend(['train', 'test'], loc='upper left')\n",
        "plt.show()"
      ],
      "execution_count": 103,
      "outputs": [
        {
          "output_type": "stream",
          "text": [
            "dict_keys(['loss', 'accuracy', 'val_loss', 'val_accuracy'])\n"
          ],
          "name": "stdout"
        },
        {
          "output_type": "display_data",
          "data": {
            "image/png": "[encoded data removed]",
            "text/plain": [
              "<Figure size 432x288 with 1 Axes>"
            ]
          },
          "metadata": {
            "tags": [],
            "needs_background": "light"
          }
        },
        {
          "output_type": "display_data",
          "data": {
            "image/png": "[encoded data removed]",
            "text/plain": [
              "<Figure size 432x288 with 1 Axes>"
            ]
          },
          "metadata": {
            "tags": [],
            "needs_background": "light"
          }
        }
      ]
    },
    {
      "cell_type": "code",
      "metadata": {
        "id": "jVn-NajeyFny",
        "colab": {
          "base_uri": "https://localhost:8080/"
        },
        "outputId": "d3005c0d-00fd-47f0-ec7d-b8b0a7413f0e"
      },
      "source": [
        "print(\"[INFO] evaluating network...\")\n",
        "predictions = model.predict(testX, batch_size=32)\n",
        "print(classification_report(testY.argmax(axis=1),\n",
        "\tpredictions.argmax(axis=1), target_names=lb.classes_))"
      ],
      "execution_count": 104,
      "outputs": [
        {
          "output_type": "stream",
          "text": [
            "[INFO] evaluating network...\n",
            "WARNING:tensorflow:Model was constructed with shape (None, 3072) for input KerasTensor(type_spec=TensorSpec(shape=(None, 3072), dtype=tf.float32, name='flatten_10_input'), name='flatten_10_input', description=\"created by layer 'flatten_10_input'\"), but it was called on an input with incompatible shape (None, 32, 32, 3).\n",
            "              precision    recall  f1-score   support\n",
            "\n",
            "       coast       0.81      0.93      0.87        73\n",
            "      forest       0.94      0.85      0.89        59\n",
            "     highway       0.85      0.74      0.79        39\n",
            "\n",
            "    accuracy                           0.86       171\n",
            "   macro avg       0.87      0.84      0.85       171\n",
            "weighted avg       0.87      0.86      0.86       171\n",
            "\n"
          ],
          "name": "stdout"
        }
      ]
    }
  ]
}